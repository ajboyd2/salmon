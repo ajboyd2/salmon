{
  "nbformat": 4,
  "nbformat_minor": 0,
  "metadata": {
    "colab": {
      "name": "Salmon timing comparison.ipynb",
      "provenance": [],
      "include_colab_link": true
    },
    "kernelspec": {
      "name": "python3",
      "display_name": "Python 3"
    }
  },
  "cells": [
    {
      "cell_type": "markdown",
      "metadata": {
        "id": "view-in-github",
        "colab_type": "text"
      },
      "source": [
        "<a href=\"https://colab.research.google.com/github/ajboyd2/salmon/blob/master/paper_outputs/timing_comparison_colab.ipynb\" target=\"_parent\"><img src=\"https://colab.research.google.com/assets/colab-badge.svg\" alt=\"Open In Colab\"/></a>"
      ]
    },
    {
      "cell_type": "code",
      "source": [
        "%pip uninstall -y numpy\n",
        "%pip install salmon-lm\n",
        "%pip install statsmodels\n",
        "%pip install rpy2\n",
        "exit()  # Restart runtime after installing correct packages"
      ],
      "metadata": {
        "id": "sv0UF9PHEr0L",
        "outputId": "6aa80381-650a-4b73-e36f-ad8261b24739",
        "colab": {
          "base_uri": "https://localhost:8080/"
        }
      },
      "execution_count": 1,
      "outputs": [
        {
          "output_type": "stream",
          "name": "stdout",
          "text": [
            "Found existing installation: numpy 1.23.5\n",
            "Uninstalling numpy-1.23.5:\n",
            "  Successfully uninstalled numpy-1.23.5\n",
            "Collecting salmon-lm\n",
            "  Downloading salmon_lm-1.2-py3-none-any.whl (30 kB)\n",
            "Requirement already satisfied: pandas>=1.5.3 in /usr/local/lib/python3.10/dist-packages (from salmon-lm) (1.5.3)\n",
            "Collecting numpy>=1.25.0 (from salmon-lm)\n",
            "  Downloading numpy-1.26.0-cp310-cp310-manylinux_2_17_x86_64.manylinux2014_x86_64.whl (18.2 MB)\n",
            "\u001b[2K     \u001b[90m━━━━━━━━━━━━━━━━━━━━━━━━━━━━━━━━━━━━━━━━\u001b[0m \u001b[32m18.2/18.2 MB\u001b[0m \u001b[31m46.0 MB/s\u001b[0m eta \u001b[36m0:00:00\u001b[0m\n",
            "\u001b[?25hRequirement already satisfied: matplotlib>=3.7.1 in /usr/local/lib/python3.10/dist-packages (from salmon-lm) (3.7.1)\n",
            "Requirement already satisfied: scipy>=1.10.1 in /usr/local/lib/python3.10/dist-packages (from salmon-lm) (1.11.2)\n",
            "Collecting ordered-set>=4.1.0 (from salmon-lm)\n",
            "  Downloading ordered_set-4.1.0-py3-none-any.whl (7.6 kB)\n",
            "Requirement already satisfied: contourpy>=1.0.1 in /usr/local/lib/python3.10/dist-packages (from matplotlib>=3.7.1->salmon-lm) (1.1.0)\n",
            "Requirement already satisfied: cycler>=0.10 in /usr/local/lib/python3.10/dist-packages (from matplotlib>=3.7.1->salmon-lm) (0.11.0)\n",
            "Requirement already satisfied: fonttools>=4.22.0 in /usr/local/lib/python3.10/dist-packages (from matplotlib>=3.7.1->salmon-lm) (4.42.1)\n",
            "Requirement already satisfied: kiwisolver>=1.0.1 in /usr/local/lib/python3.10/dist-packages (from matplotlib>=3.7.1->salmon-lm) (1.4.5)\n",
            "Requirement already satisfied: packaging>=20.0 in /usr/local/lib/python3.10/dist-packages (from matplotlib>=3.7.1->salmon-lm) (23.1)\n",
            "Requirement already satisfied: pillow>=6.2.0 in /usr/local/lib/python3.10/dist-packages (from matplotlib>=3.7.1->salmon-lm) (9.4.0)\n",
            "Requirement already satisfied: pyparsing>=2.3.1 in /usr/local/lib/python3.10/dist-packages (from matplotlib>=3.7.1->salmon-lm) (3.1.1)\n",
            "Requirement already satisfied: python-dateutil>=2.7 in /usr/local/lib/python3.10/dist-packages (from matplotlib>=3.7.1->salmon-lm) (2.8.2)\n",
            "Requirement already satisfied: pytz>=2020.1 in /usr/local/lib/python3.10/dist-packages (from pandas>=1.5.3->salmon-lm) (2023.3.post1)\n",
            "Requirement already satisfied: six>=1.5 in /usr/local/lib/python3.10/dist-packages (from python-dateutil>=2.7->matplotlib>=3.7.1->salmon-lm) (1.16.0)\n",
            "Installing collected packages: ordered-set, numpy, salmon-lm\n",
            "\u001b[31mERROR: pip's dependency resolver does not currently take into account all the packages that are installed. This behaviour is the source of the following dependency conflicts.\n",
            "numba 0.56.4 requires numpy<1.24,>=1.18, but you have numpy 1.26.0 which is incompatible.\n",
            "tensorflow 2.13.0 requires numpy<=1.24.3,>=1.22, but you have numpy 1.26.0 which is incompatible.\u001b[0m\u001b[31m\n",
            "\u001b[0mSuccessfully installed numpy-1.26.0 ordered-set-4.1.0 salmon-lm-1.2\n",
            "Requirement already satisfied: statsmodels in /usr/local/lib/python3.10/dist-packages (0.14.0)\n",
            "Requirement already satisfied: numpy>=1.18 in /usr/local/lib/python3.10/dist-packages (from statsmodels) (1.26.0)\n",
            "Requirement already satisfied: scipy!=1.9.2,>=1.4 in /usr/local/lib/python3.10/dist-packages (from statsmodels) (1.11.2)\n",
            "Requirement already satisfied: pandas>=1.0 in /usr/local/lib/python3.10/dist-packages (from statsmodels) (1.5.3)\n",
            "Requirement already satisfied: patsy>=0.5.2 in /usr/local/lib/python3.10/dist-packages (from statsmodels) (0.5.3)\n",
            "Requirement already satisfied: packaging>=21.3 in /usr/local/lib/python3.10/dist-packages (from statsmodels) (23.1)\n",
            "Requirement already satisfied: python-dateutil>=2.8.1 in /usr/local/lib/python3.10/dist-packages (from pandas>=1.0->statsmodels) (2.8.2)\n",
            "Requirement already satisfied: pytz>=2020.1 in /usr/local/lib/python3.10/dist-packages (from pandas>=1.0->statsmodels) (2023.3.post1)\n",
            "Requirement already satisfied: six in /usr/local/lib/python3.10/dist-packages (from patsy>=0.5.2->statsmodels) (1.16.0)\n",
            "Requirement already satisfied: rpy2 in /usr/local/lib/python3.10/dist-packages (3.4.2)\n",
            "Requirement already satisfied: cffi>=1.10.0 in /usr/local/lib/python3.10/dist-packages (from rpy2) (1.15.1)\n",
            "Requirement already satisfied: jinja2 in /usr/local/lib/python3.10/dist-packages (from rpy2) (3.1.2)\n",
            "Requirement already satisfied: pytz in /usr/local/lib/python3.10/dist-packages (from rpy2) (2023.3.post1)\n",
            "Requirement already satisfied: tzlocal in /usr/local/lib/python3.10/dist-packages (from rpy2) (5.0.1)\n",
            "Requirement already satisfied: pycparser in /usr/local/lib/python3.10/dist-packages (from cffi>=1.10.0->rpy2) (2.21)\n",
            "Requirement already satisfied: MarkupSafe>=2.0 in /usr/local/lib/python3.10/dist-packages (from jinja2->rpy2) (2.1.3)\n"
          ]
        }
      ]
    },
    {
      "cell_type": "code",
      "metadata": {
        "id": "0sezSHIt3sTn"
      },
      "source": [
        "import pandas as pd\n",
        "import os\n",
        "from salmon import *\n",
        "%matplotlib inline\n",
        "import statsmodels.api as sm\n",
        "import statsmodels.formula.api as smf\n",
        "import time\n",
        "from tabulate import tabulate\n",
        "import numpy as np\n",
        "import cProfile\n",
        "%load_ext rpy2.ipython"
      ],
      "execution_count": 1,
      "outputs": []
    },
    {
      "cell_type": "code",
      "source": [
        "if not os.path.isdir(\"data\"):\n",
        "    os.mkdir(\"data\")\n",
        "if not os.path.isfile(\"data/harris.csv\"):\n",
        "    import urllib.request\n",
        "    urllib.request.urlretrieve(\"https://raw.githubusercontent.com/ajboyd2/salmon/master/data/harris.csv\", \"data/harris.csv\")"
      ],
      "metadata": {
        "id": "7obN77chE8VN"
      },
      "execution_count": 2,
      "outputs": []
    },
    {
      "cell_type": "code",
      "metadata": {
        "id": "m1Q79wHx4I0v"
      },
      "source": [
        "data = pd.read_csv(\"data/harris.csv\")"
      ],
      "execution_count": 3,
      "outputs": []
    },
    {
      "cell_type": "code",
      "metadata": {
        "id": "JS6cN3y3v7pe"
      },
      "source": [
        "%%R\n",
        "data_r <- read.csv(\"data/harris.csv\")"
      ],
      "execution_count": 4,
      "outputs": []
    },
    {
      "cell_type": "code",
      "metadata": {
        "id": "Ka2Ff_72pjZN"
      },
      "source": [
        "nums = np.random.randint(0,50000,size=(10000,1000))\n",
        "data2 = pd.DataFrame(nums)\n",
        "y = data2.loc[:,0]\n",
        "X = data2.iloc[:,1:]\n",
        "cols = data2.columns"
      ],
      "execution_count": 5,
      "outputs": []
    },
    {
      "cell_type": "code",
      "metadata": {
        "id": "JJ4zoCm7iyI4",
        "colab": {
          "base_uri": "https://localhost:8080/"
        },
        "outputId": "05ee15dc-062c-4f6c-bc41-246d5ff0a686"
      },
      "source": [
        "%R -i data2,cols colnames(data2) <- unlist(cols);\n",
        "%R rdf <- data.frame(data2);\n",
        "%R y = rdf$X0\n",
        "%R X = data.matrix(rdf[,-1])"
      ],
      "execution_count": 6,
      "outputs": [
        {
          "output_type": "stream",
          "name": "stderr",
          "text": [
            "/usr/local/lib/python3.10/dist-packages/rpy2/robjects/pandas2ri.py:55: FutureWarning: iteritems is deprecated and will be removed in a future version. Use .items instead.\n",
            "  for name, values in obj.iteritems():\n"
          ]
        },
        {
          "output_type": "execute_result",
          "data": {
            "text/plain": [
              "array([[ 7156, 14664, 39575, ...,  3893, 29915, 13648],\n",
              "       [ 8192,  1073,  9878, ..., 45973, 46834, 49519],\n",
              "       [ 1987, 39350, 49257, ...,  5274,  6229, 43150],\n",
              "       ...,\n",
              "       [33252, 12266, 11074, ...,  1919,   843, 10281],\n",
              "       [ 5311, 15676, 29418, ...,  3678, 43054, 28561],\n",
              "       [ 3573, 25022, 26080, ..., 47989, 37335, 48559]], dtype=int32)"
            ]
          },
          "metadata": {},
          "execution_count": 6
        }
      ]
    },
    {
      "cell_type": "code",
      "metadata": {
        "id": "2eIUEW6m7pK7"
      },
      "source": [
        "## salmon fit data\n",
        "start_time = time.time()\n",
        "explanatory = Q(\"Bsal\")\n",
        "response = Q(\"Sal77\")\n",
        "salmon_model = LinearModel(explanatory, response)\n",
        "salmon_model.fit(data)\n",
        "end_time = time.time()\n",
        "elapsed_time_fit_sal = (end_time - start_time) * 1000\n",
        "\n",
        "## statsmodels fit data\n",
        "start_time = time.time()\n",
        "statsmodels_results = smf.ols(\"Sal77 ~ Bsal\", data=data).fit()\n",
        "statsmodels_results.summary()\n",
        "end_time = time.time()\n",
        "elapsed_time_fit_sm = (end_time - start_time) * 1000\n",
        "\n",
        "## salmon predict\n",
        "start_time = time.time()\n",
        "salmon_model.predict(data)\n",
        "end_time = time.time()\n",
        "elapsed_time_pred_sal = (end_time - start_time) * 1000\n",
        "\n",
        "## statsmodels predict\n",
        "start_time = time.time()\n",
        "statsmodels_results.predict(data)\n",
        "end_time = time.time()\n",
        "elapsed_time_pred_sm = (end_time - start_time) * 1000\n",
        "\n",
        "## salmon fit data2\n",
        "start_time = time.time()\n",
        "explanatory2 = C(\"Sex\") + Q(\"Age\") + Q(\"Exper\") + Q(\"Senior\") + Q(\"Bsal\")\n",
        "response2 = Q(\"Sal77\")\n",
        "salmon_model2 = LinearModel(explanatory2, response2)\n",
        "salmon_model2.fit(data)\n",
        "end_time = time.time()\n",
        "elapsed_time_fit_sal2 = (end_time - start_time) * 1000\n",
        "\n",
        "## statsmodels fit data2\n",
        "start_time = time.time()\n",
        "statsmodels_results2 = smf.ols(\"Sal77 ~ Sex + Age + Exper + Senior + Bsal\", data=data).fit()\n",
        "statsmodels_results2.summary()\n",
        "end_time = time.time()\n",
        "elapsed_time_fit_sm2 = (end_time - start_time) * 1000\n",
        "\n",
        "## salmon predict2\n",
        "start_time = time.time()\n",
        "salmon_model2.predict(data)\n",
        "end_time = time.time()\n",
        "elapsed_time_pred_sal2 = (end_time - start_time) * 1000\n",
        "\n",
        "## statsmodels predict2\n",
        "start_time = time.time()\n",
        "statsmodels_results2.predict(data)\n",
        "end_time = time.time()\n",
        "elapsed_time_pred_sm2 = (end_time - start_time) * 1000\n",
        "\n",
        "## salmon fit data3\n",
        "start_time = time.time()\n",
        "explanatory3 = C(\"Sex\") + Q(\"Bsal\") +  Q(\"Exper\") + C(\"Sex\") * Q(\"Bsal\") + C(\"Sex\") * Q(\"Exper\")\n",
        "response3 = Q(\"Sal77\")\n",
        "salmon_model3 = LinearModel(explanatory3, response3)\n",
        "salmon_model3.fit(data)\n",
        "end_time = time.time()\n",
        "elapsed_time_fit_sal3 = (end_time - start_time) * 1000\n",
        "\n",
        "## statsmodels fit data3\n",
        "start_time = time.time()\n",
        "statsmodels_results3 = smf.ols('Sal77 ~ Sex + Bsal + Exper + Sex*Bsal + Sex*Exper', data=data).fit()\n",
        "statsmodels_results3.summary()\n",
        "end_time = time.time()\n",
        "elapsed_time_fit_sm3 = (end_time - start_time) * 1000\n",
        "\n",
        "## salmon predict3\n",
        "start_time = time.time()\n",
        "salmon_model3.predict(data)\n",
        "end_time = time.time()\n",
        "elapsed_time_pred_sal3 = (end_time - start_time) * 1000\n",
        "\n",
        "## statsmodels predict3\n",
        "start_time = time.time()\n",
        "statsmodels_results3.predict(data)\n",
        "end_time = time.time()\n",
        "elapsed_time_pred_sm3 = (end_time - start_time) * 1000\n",
        "\n",
        "# salmon fit data4\n",
        "y = data2.loc[:,0]\n",
        "X = data2.iloc[:,1:]\n",
        "start_time = time.time()\n",
        "salmon_model4 = LinearModel(X, y)\n",
        "salmon_model4.fit()\n",
        "end_time = time.time()\n",
        "elapsed_time_fit_sal4 = (end_time - start_time) * 1000\n",
        "\n",
        "## statsmodels fit data4\n",
        "start_time = time.time()\n",
        "statsmodels_results4 = sm.OLS(y, X).fit()\n",
        "statsmodels_results4.summary()\n",
        "end_time = time.time()\n",
        "elapsed_time_fit_sm4 = (end_time - start_time) * 1000\n",
        "\n",
        "# salmon predict4\n",
        "start_time = time.time()\n",
        "salmon_model4.predict(data2)\n",
        "end_time = time.time()\n",
        "elapsed_time_pred_sal4 = (end_time - start_time) * 1000\n",
        "\n",
        "## statsmodels predict4\n",
        "start_time = time.time()\n",
        "statsmodels_results4.predict(X)\n",
        "end_time = time.time()\n",
        "elapsed_time_pred_sm4 = (end_time - start_time) * 1000"
      ],
      "execution_count": 7,
      "outputs": []
    },
    {
      "cell_type": "code",
      "metadata": {
        "id": "W7Hyd2ky3GJS"
      },
      "source": [
        "%%R\n",
        "\n",
        "## R fit data\n",
        "start_time = Sys.time()\n",
        "R_model = lm(\"Sal77 ~ Bsal\", data=data_r)\n",
        "summary(R_model)\n",
        "end_time = Sys.time()\n",
        "elapsed_time_fit_r = (end_time - start_time) * 1000\n",
        "\n",
        "## R predict\n",
        "start_time = Sys.time()\n",
        "predict(R_model)\n",
        "end_time = Sys.time()\n",
        "elapsed_time_pred_r = (end_time - start_time) * 1000\n",
        "\n",
        "# R fit data2\n",
        "start_time = Sys.time()\n",
        "R_model2 = lm(\"Sal77 ~ Sex + Age + Exper + Senior + Bsal\", data=data_r)\n",
        "summary(R_model2)\n",
        "end_time = Sys.time()\n",
        "elapsed_time_fit_r2 = (end_time - start_time) * 1000\n",
        "\n",
        "## R predict2\n",
        "start_time = Sys.time()\n",
        "predict(R_model2)\n",
        "end_time = Sys.time()\n",
        "elapsed_time_pred_r2 = (end_time - start_time) * 1000\n",
        "\n",
        "# R fit data3\n",
        "start_time = Sys.time()\n",
        "R_model3 = lm(\"Sal77 ~ Sex + Bsal + Exper + Sex*Bsal + Sex*Exper\", data=data_r)\n",
        "summary(R_model3)\n",
        "end_time = Sys.time()\n",
        "elapsed_time_fit_r3 = (end_time - start_time) * 1000\n",
        "\n",
        "## R predict3\n",
        "start_time = Sys.time()\n",
        "predict(R_model3)\n",
        "end_time = Sys.time()\n",
        "elapsed_time_pred_r3 = (end_time - start_time) * 1000\n",
        "\n",
        "# R fit data4\n",
        "start_time = Sys.time()\n",
        "R_model4 = lm(\"y ~ .\", data=rdf)\n",
        "summary(R_model)\n",
        "end_time = Sys.time()\n",
        "elapsed_time_fit_r4 = (end_time - start_time) * 1000\n",
        "\n",
        "## R predict4\n",
        "start_time = Sys.time()\n",
        "predict(R_model4)\n",
        "end_time = Sys.time()\n",
        "elapsed_time_pred_r4 = (end_time - start_time) * 1000"
      ],
      "execution_count": 8,
      "outputs": []
    },
    {
      "cell_type": "code",
      "metadata": {
        "id": "iJKVmaFf3GYt",
        "colab": {
          "base_uri": "https://localhost:8080/"
        },
        "outputId": "d70946de-4c06-4516-b9d1-eeca69235c51"
      },
      "source": [
        "elapsed_time_fit_r = %Rget elapsed_time_fit_r\n",
        "elapsed_time_pred_r = %Rget elapsed_time_pred_r\n",
        "elapsed_time_fit_r2 = %Rget elapsed_time_fit_r2\n",
        "elapsed_time_pred_r2 = %Rget elapsed_time_pred_r2\n",
        "elapsed_time_fit_r3 = %Rget elapsed_time_fit_r3\n",
        "elapsed_time_pred_r3 = %Rget elapsed_time_pred_r3\n",
        "elapsed_time_fit_r4 = %Rget elapsed_time_fit_r4\n",
        "elapsed_time_pred_r4 = %Rget elapsed_time_pred_r4\n",
        "\n",
        "table = [\n",
        "[\"Fit\",  elapsed_time_fit_sal, elapsed_time_fit_sm, elapsed_time_fit_r[0]],\n",
        "[\"Predict\", elapsed_time_pred_sal, elapsed_time_pred_sm, elapsed_time_pred_r[0]],\n",
        "[\"Fit2\",  elapsed_time_fit_sal2, elapsed_time_fit_sm2, elapsed_time_fit_r2[0]],\n",
        "[\"Predict2\", elapsed_time_pred_sal2, elapsed_time_pred_sm2, elapsed_time_pred_r2[0]],\n",
        "[\"Fit3\",  elapsed_time_fit_sal3, elapsed_time_fit_sm3, elapsed_time_fit_r3[0]],\n",
        "[\"Predict3\", elapsed_time_pred_sal3, elapsed_time_pred_sm3, elapsed_time_pred_r3[0]],\n",
        "[\"Fit4\",  elapsed_time_fit_sal4, elapsed_time_fit_sm4, elapsed_time_fit_r4[0]],\n",
        "[\"Predict4\", elapsed_time_pred_sal4, elapsed_time_pred_sm4, elapsed_time_pred_r4[0]],\n",
        "]\n",
        "print (tabulate(table, headers=[\"Test\", \"Salmon\", \"statsmodels\", \"R\"]))"
      ],
      "execution_count": 9,
      "outputs": [
        {
          "output_type": "stream",
          "name": "stdout",
          "text": [
            "Test           Salmon    statsmodels           R\n",
            "--------  -----------  -------------  ----------\n",
            "Fit         27.9691         12.0811     21.0137\n",
            "Predict      0.671387        3.07631     2.52223\n",
            "Fit2         6.6483         16.5944      7.80082\n",
            "Predict2     1.50704         5.87392     1.14059\n",
            "Fit3         6.58822        14.0831      2.53296\n",
            "Predict3     2.9943          3.98731     4.37617\n",
            "Fit4      3063.94        11648.2      8506.45\n",
            "Predict4   233.897          40.2787    655.47\n"
          ]
        }
      ]
    },
    {
      "cell_type": "code",
      "source": [],
      "metadata": {
        "id": "FDbx900pF95_"
      },
      "execution_count": null,
      "outputs": []
    }
  ]
}