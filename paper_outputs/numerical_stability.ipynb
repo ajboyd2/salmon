{
  "nbformat": 4,
  "nbformat_minor": 0,
  "metadata": {
    "colab": {
      "name": "numerical_stability.ipynb",
      "provenance": [],
      "collapsed_sections": []
    },
    "kernelspec": {
      "name": "python3",
      "display_name": "Python 3"
    }
  },
  "cells": [
    {
      "cell_type": "code",
      "metadata": {
        "colab": {
          "base_uri": "https://localhost:8080/"
        },
        "id": "Umh5-mEuGgrv",
        "outputId": "a10cb90c-1f7a-4629-e802-a73191354692"
      },
      "source": [
        "!git clone https://github.com/ajboyd2/salmon.git"
      ],
      "execution_count": 1,
      "outputs": [
        {
          "output_type": "stream",
          "name": "stdout",
          "text": [
            "fatal: destination path 'salmon' already exists and is not an empty directory.\n"
          ]
        }
      ]
    },
    {
      "cell_type": "code",
      "metadata": {
        "colab": {
          "base_uri": "https://localhost:8080/"
        },
        "id": "EICZY0WRrp8X",
        "outputId": "a7f9ba76-4283-4996-bd96-d6758118801d"
      },
      "source": [
        "!python setup.py build\n",
        "!python setup.py install"
      ],
      "execution_count": 2,
      "outputs": [
        {
          "output_type": "stream",
          "name": "stdout",
          "text": [
            "python3: can't open file 'setup.py': [Errno 2] No such file or directory\n",
            "python3: can't open file 'setup.py': [Errno 2] No such file or directory\n"
          ]
        }
      ]
    },
    {
      "cell_type": "code",
      "metadata": {
        "colab": {
          "base_uri": "https://localhost:8080/"
        },
        "id": "HYQmi7eElPLT",
        "outputId": "975bf2a0-3015-4858-b34c-1be7b66e2260"
      },
      "source": [
        "!pip install rpy2 \n",
        "%load_ext rpy2.ipython"
      ],
      "execution_count": 3,
      "outputs": [
        {
          "output_type": "stream",
          "name": "stdout",
          "text": [
            "Requirement already satisfied: rpy2 in /usr/local/lib/python3.7/dist-packages (3.4.5)\n",
            "Requirement already satisfied: pytz in /usr/local/lib/python3.7/dist-packages (from rpy2) (2018.9)\n",
            "Requirement already satisfied: jinja2 in /usr/local/lib/python3.7/dist-packages (from rpy2) (2.11.3)\n",
            "Requirement already satisfied: cffi>=1.10.0 in /usr/local/lib/python3.7/dist-packages (from rpy2) (1.14.6)\n",
            "Requirement already satisfied: tzlocal in /usr/local/lib/python3.7/dist-packages (from rpy2) (1.5.1)\n",
            "Requirement already satisfied: pycparser in /usr/local/lib/python3.7/dist-packages (from cffi>=1.10.0->rpy2) (2.20)\n",
            "Requirement already satisfied: MarkupSafe>=0.23 in /usr/local/lib/python3.7/dist-packages (from jinja2->rpy2) (2.0.1)\n"
          ]
        }
      ]
    },
    {
      "cell_type": "code",
      "metadata": {
        "id": "0sezSHIt3sTn",
        "colab": {
          "base_uri": "https://localhost:8080/"
        },
        "outputId": "723b3737-b6ae-411d-a645-4819f49236ca"
      },
      "source": [
        "import numpy as np\n",
        "import pandas as pd\n",
        "from salmon import *\n",
        "import statsmodels.formula.api as smf"
      ],
      "execution_count": 4,
      "outputs": [
        {
          "output_type": "stream",
          "name": "stderr",
          "text": [
            "/usr/local/lib/python3.7/dist-packages/statsmodels/tools/_testing.py:19: FutureWarning: pandas.util.testing is deprecated. Use the functions in the public API at pandas.testing instead.\n",
            "  import pandas.util.testing as tm\n"
          ]
        }
      ]
    },
    {
      "cell_type": "markdown",
      "metadata": {
        "id": "0ayAV104BjCI"
      },
      "source": [
        "## Generate Data"
      ]
    },
    {
      "cell_type": "code",
      "metadata": {
        "id": "m1Q79wHx4I0v"
      },
      "source": [
        "np.random.seed(1)\n",
        "n = 100\n",
        "x = np.random.randn(n) + 1e8\n",
        "y = 2 + 2 * x + np.random.randn(n)\n",
        "df = pd.DataFrame({\n",
        "    \"x\": x,\n",
        "    \"y\": y\n",
        "})"
      ],
      "execution_count": 5,
      "outputs": []
    },
    {
      "cell_type": "markdown",
      "metadata": {
        "id": "YOPU8y8jBkh4"
      },
      "source": [
        "## Salmon"
      ]
    },
    {
      "cell_type": "code",
      "metadata": {
        "colab": {
          "base_uri": "https://localhost:8080/",
          "height": 112
        },
        "id": "mA75vRf1BYaI",
        "outputId": "7488f4fc-d959-4665-c27d-a339b2e0e5ff"
      },
      "source": [
        "model = LinearModel(Q(\"x\"), Q(\"y\"))\n",
        "model.fit(df)"
      ],
      "execution_count": 6,
      "outputs": [
        {
          "output_type": "execute_result",
          "data": {
            "text/html": [
              "<div>\n",
              "<style scoped>\n",
              "    .dataframe tbody tr th:only-of-type {\n",
              "        vertical-align: middle;\n",
              "    }\n",
              "\n",
              "    .dataframe tbody tr th {\n",
              "        vertical-align: top;\n",
              "    }\n",
              "\n",
              "    .dataframe thead th {\n",
              "        text-align: right;\n",
              "    }\n",
              "</style>\n",
              "<table border=\"1\" class=\"dataframe\">\n",
              "  <thead>\n",
              "    <tr style=\"text-align: right;\">\n",
              "      <th></th>\n",
              "      <th>Coefficient</th>\n",
              "      <th>SE</th>\n",
              "      <th>t</th>\n",
              "      <th>p</th>\n",
              "      <th>2.5%</th>\n",
              "      <th>97.5%</th>\n",
              "    </tr>\n",
              "  </thead>\n",
              "  <tbody>\n",
              "    <tr>\n",
              "      <th>x</th>\n",
              "      <td>2.095</td>\n",
              "      <td>0.1059</td>\n",
              "      <td>19.78</td>\n",
              "      <td>5.4e-36</td>\n",
              "      <td>1.885</td>\n",
              "      <td>2.306</td>\n",
              "    </tr>\n",
              "    <tr>\n",
              "      <th>Intercept</th>\n",
              "      <td>-9.543e+6</td>\n",
              "      <td>1.059e+7</td>\n",
              "      <td>-0.9009</td>\n",
              "      <td>0.3698</td>\n",
              "      <td>-3.056e+7</td>\n",
              "      <td>1.148e+7</td>\n",
              "    </tr>\n",
              "  </tbody>\n",
              "</table>\n",
              "</div>"
            ],
            "text/plain": [
              "           Coefficient       SE       t       p      2.5%    97.5%\n",
              "x                2.095   0.1059   19.78 5.4e-36     1.885    2.306\n",
              "Intercept    -9.543e+6 1.059e+7 -0.9009  0.3698 -3.056e+7 1.148e+7"
            ]
          },
          "metadata": {},
          "execution_count": 6
        }
      ]
    },
    {
      "cell_type": "markdown",
      "metadata": {
        "id": "cK8WNHR6Bn0I"
      },
      "source": [
        "## Statsmodels"
      ]
    },
    {
      "cell_type": "code",
      "metadata": {
        "colab": {
          "base_uri": "https://localhost:8080/",
          "height": 542
        },
        "id": "WIG9ZvygBiA4",
        "outputId": "0795be50-0c7c-4cb0-bbc0-067249e47444"
      },
      "source": [
        "smf.ols(\"y ~ x\", df).fit().summary()"
      ],
      "execution_count": 7,
      "outputs": [
        {
          "output_type": "stream",
          "name": "stderr",
          "text": [
            "/usr/local/lib/python3.7/dist-packages/statsmodels/regression/linear_model.py:1657: RuntimeWarning: divide by zero encountered in double_scalars\n",
            "  return self.ess/self.df_model\n"
          ]
        },
        {
          "output_type": "execute_result",
          "data": {
            "text/html": [
              "<table class=\"simpletable\">\n",
              "<caption>OLS Regression Results</caption>\n",
              "<tr>\n",
              "  <th>Dep. Variable:</th>            <td>y</td>        <th>  R-squared:         </th> <td>   0.798</td>\n",
              "</tr>\n",
              "<tr>\n",
              "  <th>Model:</th>                   <td>OLS</td>       <th>  Adj. R-squared:    </th> <td>   0.798</td>\n",
              "</tr>\n",
              "<tr>\n",
              "  <th>Method:</th>             <td>Least Squares</td>  <th>  F-statistic:       </th> <td>     inf</td>\n",
              "</tr>\n",
              "<tr>\n",
              "  <th>Date:</th>             <td>Fri, 01 Oct 2021</td> <th>  Prob (F-statistic):</th>  <td>   nan</td> \n",
              "</tr>\n",
              "<tr>\n",
              "  <th>Time:</th>                 <td>22:45:02</td>     <th>  Log-Likelihood:    </th> <td> -134.85</td>\n",
              "</tr>\n",
              "<tr>\n",
              "  <th>No. Observations:</th>      <td>   100</td>      <th>  AIC:               </th> <td>   271.7</td>\n",
              "</tr>\n",
              "<tr>\n",
              "  <th>Df Residuals:</th>          <td>    99</td>      <th>  BIC:               </th> <td>   274.3</td>\n",
              "</tr>\n",
              "<tr>\n",
              "  <th>Df Model:</th>              <td>     0</td>      <th>                     </th>     <td> </td>   \n",
              "</tr>\n",
              "<tr>\n",
              "  <th>Covariance Type:</th>      <td>nonrobust</td>    <th>                     </th>     <td> </td>   \n",
              "</tr>\n",
              "</table>\n",
              "<table class=\"simpletable\">\n",
              "<tr>\n",
              "      <td></td>         <th>coef</th>     <th>std err</th>      <th>t</th>      <th>P>|t|</th>  <th>[0.025</th>    <th>0.975]</th>  \n",
              "</tr>\n",
              "<tr>\n",
              "  <th>Intercept</th> <td>     2e-08</td> <td> 9.37e-18</td> <td> 2.14e+09</td> <td> 0.000</td> <td>    2e-08</td> <td>    2e-08</td>\n",
              "</tr>\n",
              "<tr>\n",
              "  <th>x</th>         <td>    2.0000</td> <td> 9.37e-10</td> <td> 2.14e+09</td> <td> 0.000</td> <td>    2.000</td> <td>    2.000</td>\n",
              "</tr>\n",
              "</table>\n",
              "<table class=\"simpletable\">\n",
              "<tr>\n",
              "  <th>Omnibus:</th>       <td> 1.029</td> <th>  Durbin-Watson:     </th> <td>   2.143</td>\n",
              "</tr>\n",
              "<tr>\n",
              "  <th>Prob(Omnibus):</th> <td> 0.598</td> <th>  Jarque-Bera (JB):  </th> <td>   0.617</td>\n",
              "</tr>\n",
              "<tr>\n",
              "  <th>Skew:</th>          <td>-0.167</td> <th>  Prob(JB):          </th> <td>   0.734</td>\n",
              "</tr>\n",
              "<tr>\n",
              "  <th>Kurtosis:</th>      <td> 3.191</td> <th>  Cond. No.          </th> <td>1.13e+16</td>\n",
              "</tr>\n",
              "</table><br/><br/>Warnings:<br/>[1] Standard Errors assume that the covariance matrix of the errors is correctly specified.<br/>[2] The smallest eigenvalue is 7.84e-15. This might indicate that there are<br/>strong multicollinearity problems or that the design matrix is singular."
            ],
            "text/plain": [
              "<class 'statsmodels.iolib.summary.Summary'>\n",
              "\"\"\"\n",
              "                            OLS Regression Results                            \n",
              "==============================================================================\n",
              "Dep. Variable:                      y   R-squared:                       0.798\n",
              "Model:                            OLS   Adj. R-squared:                  0.798\n",
              "Method:                 Least Squares   F-statistic:                       inf\n",
              "Date:                Fri, 01 Oct 2021   Prob (F-statistic):                nan\n",
              "Time:                        22:45:02   Log-Likelihood:                -134.85\n",
              "No. Observations:                 100   AIC:                             271.7\n",
              "Df Residuals:                      99   BIC:                             274.3\n",
              "Df Model:                           0                                         \n",
              "Covariance Type:            nonrobust                                         \n",
              "==============================================================================\n",
              "                 coef    std err          t      P>|t|      [0.025      0.975]\n",
              "------------------------------------------------------------------------------\n",
              "Intercept       2e-08   9.37e-18   2.14e+09      0.000       2e-08       2e-08\n",
              "x              2.0000   9.37e-10   2.14e+09      0.000       2.000       2.000\n",
              "==============================================================================\n",
              "Omnibus:                        1.029   Durbin-Watson:                   2.143\n",
              "Prob(Omnibus):                  0.598   Jarque-Bera (JB):                0.617\n",
              "Skew:                          -0.167   Prob(JB):                        0.734\n",
              "Kurtosis:                       3.191   Cond. No.                     1.13e+16\n",
              "==============================================================================\n",
              "\n",
              "Warnings:\n",
              "[1] Standard Errors assume that the covariance matrix of the errors is correctly specified.\n",
              "[2] The smallest eigenvalue is 7.84e-15. This might indicate that there are\n",
              "strong multicollinearity problems or that the design matrix is singular.\n",
              "\"\"\""
            ]
          },
          "metadata": {},
          "execution_count": 7
        }
      ]
    },
    {
      "cell_type": "markdown",
      "metadata": {
        "id": "k9opOvArB3hm"
      },
      "source": [
        "## R"
      ]
    },
    {
      "cell_type": "code",
      "metadata": {
        "colab": {
          "base_uri": "https://localhost:8080/"
        },
        "id": "DtzcZ840B6wG",
        "outputId": "2a4447e9-4fdf-4488-f5f1-c692e9a61c8e"
      },
      "source": [
        "%%R -i df\n",
        "\n",
        "summary(lm(y ~ x, data=df))"
      ],
      "execution_count": 8,
      "outputs": [
        {
          "output_type": "stream",
          "name": "stdout",
          "text": [
            "\n",
            "Call:\n",
            "lm(formula = y ~ x, data = df)\n",
            "\n",
            "Residuals:\n",
            "    Min      1Q  Median      3Q     Max \n",
            "-4.9633 -1.2277  0.1418  1.2327  6.2879 \n",
            "\n",
            "Coefficients: (1 not defined because of singularities)\n",
            "             Estimate Std. Error   t value Pr(>|t|)    \n",
            "(Intercept) 2.000e+08  2.085e-01 959462622   <2e-16 ***\n",
            "x                  NA         NA        NA       NA    \n",
            "---\n",
            "Signif. codes:  0 ‘***’ 0.001 ‘**’ 0.01 ‘*’ 0.05 ‘.’ 0.1 ‘ ’ 1\n",
            "\n",
            "Residual standard error: 2.085 on 99 degrees of freedom\n",
            "\n"
          ]
        }
      ]
    }
  ]
}