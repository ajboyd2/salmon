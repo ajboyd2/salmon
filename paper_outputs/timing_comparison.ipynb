{
  "nbformat": 4,
  "nbformat_minor": 0,
  "metadata": {
    "colab": {
      "name": "Salmon timing comparison.ipynb",
      "provenance": [],
      "collapsed_sections": []
    },
    "kernelspec": {
      "name": "python3",
      "display_name": "Python 3"
    }
  },
  "cells": [
    {
      "cell_type": "markdown",
      "metadata": {
        "id": "trQiCAVeFCNH"
      },
      "source": [
        "Note: assumes package 'rpy2' has been installed"
      ]
    },
    {
      "cell_type": "code",
      "metadata": {
        "id": "0sezSHIt3sTn",
        "colab": {
          "base_uri": "https://localhost:8080/"
        },
        "outputId": "2eb605bf-2962-422a-ea19-aa67f6be9909"
      },
      "source": [
        "import pandas as pd\n",
        "from salmon import *\n",
        "%matplotlib inline\n",
        "import statsmodels.api as sm\n",
        "import statsmodels.formula.api as smf\n",
        "import time\n",
        "from tabulate import tabulate\n",
        "import numpy as np\n",
        "import cProfile\n",
        "%load_ext rpy2.ipython"
      ],
      "execution_count": 3,
      "outputs": [
        {
          "output_type": "stream",
          "name": "stderr",
          "text": [
            "/usr/local/lib/python3.7/dist-packages/statsmodels/tools/_testing.py:19: FutureWarning: pandas.util.testing is deprecated. Use the functions in the public API at pandas.testing instead.\n",
            "  import pandas.util.testing as tm\n"
          ]
        }
      ]
    },
    {
      "cell_type": "code",
      "metadata": {
        "id": "m1Q79wHx4I0v"
      },
      "source": [
        "data = pd.read_csv(\"data/harris.csv\")"
      ],
      "execution_count": 4,
      "outputs": []
    },
    {
      "cell_type": "code",
      "metadata": {
        "id": "JS6cN3y3v7pe"
      },
      "source": [
        "%%R\n",
        "data_r <- read.csv(\"data/harris.csv\")"
      ],
      "execution_count": 5,
      "outputs": []
    },
    {
      "cell_type": "code",
      "metadata": {
        "id": "Ka2Ff_72pjZN"
      },
      "source": [
        "nums = np.random.randint(0,50000,size=(10000,1000))\n",
        "data2 = pd.DataFrame(nums)\n",
        "y = data2.loc[:,0]\n",
        "X = data2.iloc[:,1:]\n",
        "cols = data2.columns"
      ],
      "execution_count": 6,
      "outputs": []
    },
    {
      "cell_type": "code",
      "metadata": {
        "id": "JJ4zoCm7iyI4",
        "colab": {
          "base_uri": "https://localhost:8080/"
        },
        "outputId": "e98001b2-7dd2-4261-add5-d379b2326772"
      },
      "source": [
        "%R -i data2,cols colnames(data2) <- unlist(cols);\n",
        "%R rdf <- data.frame(data2);\n",
        "%R y = rdf$X0\n",
        "%R X = data.matrix(rdf[,-1])"
      ],
      "execution_count": 7,
      "outputs": [
        {
          "output_type": "execute_result",
          "data": {
            "text/plain": [
              "array([[ 9695, 25187, 17423, ..., 13582, 15724, 45347],\n",
              "       [43284, 31867, 45648, ..., 11421, 22014, 10948],\n",
              "       [25128, 40154, 28514, ..., 46988, 29078, 29844],\n",
              "       ...,\n",
              "       [42267, 38667, 49196, ..., 18549, 16411, 25124],\n",
              "       [45099, 23381, 43648, ..., 25261, 25397,  5716],\n",
              "       [15649, 26610, 24636, ..., 44615, 16339, 45319]], dtype=int32)"
            ]
          },
          "metadata": {},
          "execution_count": 7
        }
      ]
    },
    {
      "cell_type": "code",
      "metadata": {
        "id": "2eIUEW6m7pK7"
      },
      "source": [
        "## salmon fit data\n",
        "start_time = time.time()\n",
        "explanatory = Q(\"Bsal\")\n",
        "response = Q(\"Sal77\")\n",
        "salmon_model = LinearModel(explanatory, response)\n",
        "salmon_model.fit(data)\n",
        "end_time = time.time()\n",
        "elapsed_time_fit_sal = (end_time - start_time) * 1000\n",
        "\n",
        "## statsmodels fit data\n",
        "start_time = time.time()\n",
        "statsmodels_results = smf.ols(\"Sal77 ~ Bsal\", data=data).fit()\n",
        "statsmodels_results.summary()\n",
        "end_time = time.time()\n",
        "elapsed_time_fit_sm = (end_time - start_time) * 1000\n",
        "\n",
        "## salmon predict\n",
        "start_time = time.time()\n",
        "salmon_model.predict(data)\n",
        "end_time = time.time()\n",
        "elapsed_time_pred_sal = (end_time - start_time) * 1000\n",
        "\n",
        "## statsmodels predict\n",
        "start_time = time.time()\n",
        "statsmodels_results.predict(data)\n",
        "end_time = time.time()\n",
        "elapsed_time_pred_sm = (end_time - start_time) * 1000\n",
        "\n",
        "## salmon fit data2\n",
        "start_time = time.time()\n",
        "explanatory2 = C(\"Sex\") + Q(\"Age\") + Q(\"Exper\") + Q(\"Senior\") + Q(\"Bsal\")\n",
        "response2 = Q(\"Sal77\")\n",
        "salmon_model2 = LinearModel(explanatory2, response2)\n",
        "salmon_model2.fit(data)\n",
        "end_time = time.time()\n",
        "elapsed_time_fit_sal2 = (end_time - start_time) * 1000\n",
        "\n",
        "## statsmodels fit data2\n",
        "start_time = time.time()\n",
        "statsmodels_results2 = smf.ols(\"Sal77 ~ Sex + Age + Exper + Senior + Bsal\", data=data).fit()\n",
        "statsmodels_results2.summary()\n",
        "end_time = time.time()\n",
        "elapsed_time_fit_sm2 = (end_time - start_time) * 1000\n",
        "\n",
        "## salmon predict2\n",
        "start_time = time.time()\n",
        "salmon_model2.predict(data)\n",
        "end_time = time.time()\n",
        "elapsed_time_pred_sal2 = (end_time - start_time) * 1000\n",
        "\n",
        "## statsmodels predict2\n",
        "start_time = time.time()\n",
        "statsmodels_results2.predict(data)\n",
        "end_time = time.time()\n",
        "elapsed_time_pred_sm2 = (end_time - start_time) * 1000\n",
        "\n",
        "## salmon fit data3\n",
        "start_time = time.time()\n",
        "explanatory3 = C(\"Sex\") + Q(\"Bsal\") +  Q(\"Exper\") + C(\"Sex\") * Q(\"Bsal\") + C(\"Sex\") * Q(\"Exper\")\n",
        "response3 = Q(\"Sal77\")\n",
        "salmon_model3 = LinearModel(explanatory3, response3)\n",
        "salmon_model3.fit(data)\n",
        "end_time = time.time()\n",
        "elapsed_time_fit_sal3 = (end_time - start_time) * 1000\n",
        "\n",
        "## statsmodels fit data3\n",
        "start_time = time.time()\n",
        "statsmodels_results3 = smf.ols('Sal77 ~ Sex + Bsal + Exper + Sex*Bsal + Sex*Exper', data=data).fit()\n",
        "statsmodels_results3.summary()\n",
        "end_time = time.time()\n",
        "elapsed_time_fit_sm3 = (end_time - start_time) * 1000\n",
        "\n",
        "## salmon predict3\n",
        "start_time = time.time()\n",
        "salmon_model3.predict(data)\n",
        "end_time = time.time()\n",
        "elapsed_time_pred_sal3 = (end_time - start_time) * 1000\n",
        "\n",
        "## statsmodels predict3\n",
        "start_time = time.time()\n",
        "statsmodels_results3.predict(data)\n",
        "end_time = time.time()\n",
        "elapsed_time_pred_sm3 = (end_time - start_time) * 1000\n",
        "\n",
        "# salmon fit data4\n",
        "y = data2.loc[:,0]\n",
        "X = data2.iloc[:,1:]\n",
        "start_time = time.time()\n",
        "salmon_model4 = LinearModel(X, y)\n",
        "salmon_model4.fit()\n",
        "end_time = time.time()\n",
        "elapsed_time_fit_sal4 = (end_time - start_time) * 1000\n",
        "\n",
        "## statsmodels fit data4\n",
        "start_time = time.time()\n",
        "statsmodels_results4 = sm.OLS(y, X).fit()\n",
        "statsmodels_results4.summary()\n",
        "end_time = time.time()\n",
        "elapsed_time_fit_sm4 = (end_time - start_time) * 1000\n",
        "\n",
        "# salmon predict4\n",
        "start_time = time.time()\n",
        "salmon_model4.predict(data2)\n",
        "end_time = time.time()\n",
        "elapsed_time_pred_sal4 = (end_time - start_time) * 1000\n",
        "\n",
        "## statsmodels predict4\n",
        "start_time = time.time()\n",
        "statsmodels_results4.predict(X)\n",
        "end_time = time.time()\n",
        "elapsed_time_pred_sm4 = (end_time - start_time) * 1000"
      ],
      "execution_count": 11,
      "outputs": []
    },
    {
      "cell_type": "code",
      "metadata": {
        "id": "W7Hyd2ky3GJS"
      },
      "source": [
        "%%R\n",
        "\n",
        "## R fit data\n",
        "start_time = Sys.time()\n",
        "R_model = lm(\"Sal77 ~ Bsal\", data=data_r)\n",
        "summary(R_model)\n",
        "end_time = Sys.time()\n",
        "elapsed_time_fit_r = (end_time - start_time) * 1000\n",
        "\n",
        "## R predict\n",
        "start_time = Sys.time()\n",
        "predict(R_model)\n",
        "end_time = Sys.time()\n",
        "elapsed_time_pred_r = (end_time - start_time) * 1000\n",
        "\n",
        "# R fit data2\n",
        "start_time = Sys.time()\n",
        "R_model2 = lm(\"Sal77 ~ Sex + Age + Exper + Senior + Bsal\", data=data_r)\n",
        "summary(R_model2)\n",
        "end_time = Sys.time()\n",
        "elapsed_time_fit_r2 = (end_time - start_time) * 1000\n",
        "\n",
        "## R predict2\n",
        "start_time = Sys.time()\n",
        "predict(R_model2)\n",
        "end_time = Sys.time()\n",
        "elapsed_time_pred_r2 = (end_time - start_time) * 1000\n",
        "\n",
        "# R fit data3\n",
        "start_time = Sys.time()\n",
        "R_model3 = lm(\"Sal77 ~ Sex + Bsal + Exper + Sex*Bsal + Sex*Exper\", data=data_r)\n",
        "summary(R_model3)\n",
        "end_time = Sys.time()\n",
        "elapsed_time_fit_r3 = (end_time - start_time) * 1000\n",
        "\n",
        "## R predict3\n",
        "start_time = Sys.time()\n",
        "predict(R_model3)\n",
        "end_time = Sys.time()\n",
        "elapsed_time_pred_r3 = (end_time - start_time) * 1000\n",
        "\n",
        "# R fit data4\n",
        "start_time = Sys.time()\n",
        "R_model4 = lm(\"y ~ .\", data=rdf)\n",
        "summary(R_model)\n",
        "end_time = Sys.time()\n",
        "elapsed_time_fit_r4 = (end_time - start_time) * 1000\n",
        "\n",
        "## R predict4\n",
        "start_time = Sys.time()\n",
        "predict(R_model4)\n",
        "end_time = Sys.time()\n",
        "elapsed_time_pred_r4 = (end_time - start_time) * 1000"
      ],
      "execution_count": 12,
      "outputs": []
    },
    {
      "cell_type": "code",
      "metadata": {
        "id": "iJKVmaFf3GYt",
        "colab": {
          "base_uri": "https://localhost:8080/"
        },
        "outputId": "2956830b-7f78-4f53-f7d1-9d72ed8c3953"
      },
      "source": [
        "elapsed_time_fit_r = %Rget elapsed_time_fit_r\n",
        "elapsed_time_pred_r = %Rget elapsed_time_pred_r\n",
        "elapsed_time_fit_r2 = %Rget elapsed_time_fit_r2\n",
        "elapsed_time_pred_r2 = %Rget elapsed_time_pred_r2\n",
        "elapsed_time_fit_r3 = %Rget elapsed_time_fit_r3\n",
        "elapsed_time_pred_r3 = %Rget elapsed_time_pred_r3\n",
        "elapsed_time_fit_r4 = %Rget elapsed_time_fit_r4\n",
        "elapsed_time_pred_r4 = %Rget elapsed_time_pred_r4\n",
        "\n",
        "table = [\n",
        "[\"Fit\",  elapsed_time_fit_sal, elapsed_time_fit_sm, elapsed_time_fit_r[0]],\n",
        "[\"Predict\", elapsed_time_pred_sal, elapsed_time_pred_sm, elapsed_time_pred_r[0]],\n",
        "[\"Fit2\",  elapsed_time_fit_sal2, elapsed_time_fit_sm2, elapsed_time_fit_r2[0]],\n",
        "[\"Predict2\", elapsed_time_pred_sal2, elapsed_time_pred_sm2, elapsed_time_pred_r2[0]],\n",
        "[\"Fit3\",  elapsed_time_fit_sal3, elapsed_time_fit_sm3, elapsed_time_fit_r3[0]],\n",
        "[\"Predict3\", elapsed_time_pred_sal3, elapsed_time_pred_sm3, elapsed_time_pred_r3[0]],\n",
        "[\"Fit4\",  elapsed_time_fit_sal4, elapsed_time_fit_sm4, elapsed_time_fit_r4[0]],\n",
        "[\"Predict4\", elapsed_time_pred_sal4, elapsed_time_pred_sm4, elapsed_time_pred_r4[0]],\n",
        "]\n",
        "print (tabulate(table, headers=[\"Test\", \"Salmon\", \"statsmodels\", \"R\"]))"
      ],
      "execution_count": 13,
      "outputs": [
        {
          "output_type": "stream",
          "name": "stdout",
          "text": [
            "Test           Salmon    statsmodels            R\n",
            "--------  -----------  -------------  -----------\n",
            "Fit          2.7585          8.70061     1.50537\n",
            "Predict      0.607252        2.26712     0.350475\n",
            "Fit2         3.6366         15.5897      5.09667\n",
            "Predict2     1.42074         6.53648     1.02043\n",
            "Fit3         7.80964        11.5764      2.34389\n",
            "Predict3     2.67053         3.99446     1.17135\n",
            "Fit4      2198.13         7491.4      5280.51\n",
            "Predict4   215.73           22.795     191.406\n"
          ]
        }
      ]
    }
  ]
}