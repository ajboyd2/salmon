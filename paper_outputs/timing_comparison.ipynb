{
  "nbformat": 4,
  "nbformat_minor": 0,
  "metadata": {
    "colab": {
      "name": "Salmon timing comparison.ipynb",
      "provenance": [],
      "collapsed_sections": []
    },
    "kernelspec": {
      "name": "python3",
      "display_name": "Python 3"
    }
  },
  "cells": [
    {
      "cell_type": "markdown",
      "metadata": {
        "id": "vD9PltnHAqd7"
      },
      "source": [
        "Note: assumes package 'rpy2' is installed"
      ]
    },
    {
      "cell_type": "code",
      "metadata": {
        "id": "0sezSHIt3sTn",
        "colab": {
          "base_uri": "https://localhost:8080/"
        },
        "outputId": "6aab1c7f-3b92-477f-b41f-3bc33b0f1b58"
      },
      "source": [
        "import pandas as pd\n",
        "from salmon import *\n",
        "%matplotlib inline\n",
        "import statsmodels.api as sm\n",
        "import statsmodels.formula.api as smf\n",
        "import time\n",
        "from tabulate import tabulate\n",
        "import numpy as np\n",
        "import cProfile\n",
        "%load_ext rpy2.ipython"
      ],
      "execution_count": null,
      "outputs": [
        {
          "output_type": "stream",
          "name": "stderr",
          "text": [
            "/usr/local/lib/python3.7/dist-packages/statsmodels/tools/_testing.py:19: FutureWarning: pandas.util.testing is deprecated. Use the functions in the public API at pandas.testing instead.\n",
            "  import pandas.util.testing as tm\n"
          ]
        }
      ]
    },
    {
      "cell_type": "code",
      "metadata": {
        "id": "m1Q79wHx4I0v"
      },
      "source": [
        "data = pd.read_csv(\"data/harris.csv\")"
      ],
      "execution_count": null,
      "outputs": []
    },
    {
      "cell_type": "code",
      "metadata": {
        "id": "JS6cN3y3v7pe"
      },
      "source": [
        "%%R\n",
        "data_r <- read.csv(\"data/harris.csv\")"
      ],
      "execution_count": null,
      "outputs": []
    },
    {
      "cell_type": "code",
      "metadata": {
        "id": "Ka2Ff_72pjZN"
      },
      "source": [
        "nums = np.random.randint(0,50000,size=(10000,1000))\n",
        "data2 = pd.DataFrame(nums)\n",
        "y = data2.loc[:,0]\n",
        "X = data2.iloc[:,1:]\n",
        "cols = data2.columns"
      ],
      "execution_count": null,
      "outputs": []
    },
    {
      "cell_type": "code",
      "metadata": {
        "id": "JJ4zoCm7iyI4",
        "colab": {
          "base_uri": "https://localhost:8080/"
        },
        "outputId": "db65a2ad-3e5a-4155-c923-a0906bec1cc1"
      },
      "source": [
        "%R -i data2,cols colnames(data2) <- unlist(cols);\n",
        "%R rdf <- data.frame(data2);\n",
        "%R y = rdf$X0\n",
        "%R X = data.matrix(rdf[,-1])"
      ],
      "execution_count": null,
      "outputs": [
        {
          "output_type": "execute_result",
          "data": {
            "text/plain": [
              "array([[12916, 24464, 24850, ...,  2558, 12810, 28685],\n",
              "       [42335,  9706,  3754, ...,  3909, 16846, 17665],\n",
              "       [31640,  3916, 46127, ...,  8527, 33160, 27781],\n",
              "       ...,\n",
              "       [ 4812, 22980,  6296, ..., 18749, 38691, 28466],\n",
              "       [  639, 20021, 29387, ...,  6808, 16144,  4016],\n",
              "       [26776, 16674,  9809, ..., 35624, 41080, 20652]], dtype=int32)"
            ]
          },
          "metadata": {},
          "execution_count": 13
        }
      ]
    },
    {
      "cell_type": "code",
      "metadata": {
        "id": "2eIUEW6m7pK7"
      },
      "source": [
        "## salmon fit data\n",
        "start_time = time.time()\n",
        "explanatory = Q(\"Bsal\")\n",
        "response = Q(\"Sal77\")\n",
        "salmon_model = LinearModel(explanatory, response)\n",
        "salmon_model.fit(data)\n",
        "end_time = time.time()\n",
        "elapsed_time_fit_sal = (end_time - start_time) * 1000\n",
        "\n",
        "## statsmodels fit data\n",
        "start_time = time.time()\n",
        "statsmodels_results = smf.ols(\"Sal77 ~ Bsal\", data=data).fit()\n",
        "statsmodels_results.summary()\n",
        "end_time = time.time()\n",
        "elapsed_time_fit_sm = (end_time - start_time) * 1000\n",
        "\n",
        "## salmon predict\n",
        "start_time = time.time()\n",
        "salmon_model.predict(data)\n",
        "end_time = time.time()\n",
        "elapsed_time_pred_sal = (end_time - start_time) * 1000\n",
        "\n",
        "## statsmodels predict\n",
        "start_time = time.time()\n",
        "statsmodels_results.predict(data)\n",
        "end_time = time.time()\n",
        "elapsed_time_pred_sm = (end_time - start_time) * 1000\n",
        "\n",
        "## Salmon confidence intervals\n",
        "start_time = time.time()\n",
        "salmon_model.confidence_intervals(alpha=0.05)\n",
        "end_time = time.time()\n",
        "elapsed_time_ci_sal = (end_time - start_time) * 1000\n",
        "\n",
        "## statsmodels confidence intervals\n",
        "start_time = time.time()\n",
        "statsmodels_results.conf_int(alpha=0.05, cols=None)\n",
        "end_time = time.time()\n",
        "elapsed_time_ci_sm = (end_time - start_time) * 1000\n",
        "\n",
        "## salmon fit data2\n",
        "start_time = time.time()\n",
        "explanatory2 = C(\"Sex\") + Q(\"Age\") + Q(\"Exper\") + Q(\"Senior\") + Q(\"Bsal\")\n",
        "response2 = Q(\"Sal77\")\n",
        "salmon_model2 = LinearModel(explanatory2, response2)\n",
        "salmon_model2.fit(data)\n",
        "end_time = time.time()\n",
        "elapsed_time_fit_sal2 = (end_time - start_time) * 1000\n",
        "\n",
        "## statsmodels fit data2\n",
        "start_time = time.time()\n",
        "statsmodels_results2 = smf.ols(\"Sal77 ~ Sex + Age + Exper + Senior + Bsal\", data=data).fit()\n",
        "statsmodels_results2.summary()\n",
        "end_time = time.time()\n",
        "elapsed_time_fit_sm2 = (end_time - start_time) * 1000\n",
        "\n",
        "## salmon predict2\n",
        "start_time = time.time()\n",
        "salmon_model2.predict(data)\n",
        "end_time = time.time()\n",
        "elapsed_time_pred_sal2 = (end_time - start_time) * 1000\n",
        "\n",
        "## statsmodels predict2\n",
        "start_time = time.time()\n",
        "statsmodels_results2.predict(data)\n",
        "end_time = time.time()\n",
        "elapsed_time_pred_sm2 = (end_time - start_time) * 1000\n",
        "\n",
        "## Salmon confidence intervals2\n",
        "start_time = time.time()\n",
        "salmon_model2.confidence_intervals(alpha=0.05)\n",
        "end_time = time.time()\n",
        "elapsed_time_ci_sal2 = (end_time - start_time) * 1000\n",
        "\n",
        "## statsmodels confidence intervals2\n",
        "start_time = time.time()\n",
        "statsmodels_results2.conf_int(alpha=0.05, cols=None)\n",
        "end_time = time.time()\n",
        "elapsed_time_ci_sm2 = (end_time - start_time) * 1000\n",
        "\n",
        "## salmon fit data3\n",
        "start_time = time.time()\n",
        "explanatory3 = C(\"Sex\") + Q(\"Bsal\") +  Q(\"Exper\") + C(\"Sex\") * Q(\"Bsal\") + C(\"Sex\") * Q(\"Exper\")\n",
        "response3 = Q(\"Sal77\")\n",
        "salmon_model3 = LinearModel(explanatory3, response3)\n",
        "salmon_model3.fit(data)\n",
        "end_time = time.time()\n",
        "elapsed_time_fit_sal3 = (end_time - start_time) * 1000\n",
        "\n",
        "## statsmodels fit data3\n",
        "start_time = time.time()\n",
        "statsmodels_results3 = smf.ols('Sal77 ~ Sex + Bsal + Exper + Sex*Bsal + Sex*Exper', data=data).fit()\n",
        "statsmodels_results3.summary()\n",
        "end_time = time.time()\n",
        "elapsed_time_fit_sm3 = (end_time - start_time) * 1000\n",
        "\n",
        "## salmon predict3\n",
        "start_time = time.time()\n",
        "salmon_model3.predict(data)\n",
        "end_time = time.time()\n",
        "elapsed_time_pred_sal3 = (end_time - start_time) * 1000\n",
        "\n",
        "## statsmodels predict3\n",
        "start_time = time.time()\n",
        "statsmodels_results3.predict(data)\n",
        "end_time = time.time()\n",
        "elapsed_time_pred_sm3 = (end_time - start_time) * 1000\n",
        "\n",
        "## Salmon confidence intervals3\n",
        "start_time = time.time()\n",
        "salmon_model3.confidence_intervals(alpha=0.05)\n",
        "end_time = time.time()\n",
        "elapsed_time_ci_sal3 = (end_time - start_time) * 1000\n",
        "\n",
        "## statsmodels confidence intervals3\n",
        "start_time = time.time()\n",
        "statsmodels_results3.conf_int(alpha=0.05, cols=None)\n",
        "end_time = time.time()\n",
        "elapsed_time_ci_sm3 = (end_time - start_time) * 1000\n",
        "\n",
        "# salmon fit data4\n",
        "y = data2.loc[:,0]\n",
        "X = data2.iloc[:,1:]\n",
        "start_time = time.time()\n",
        "salmon_model4 = LinearModel(X, y)\n",
        "salmon_model4.fit()\n",
        "end_time = time.time()\n",
        "elapsed_time_fit_sal4 = (end_time - start_time) * 1000\n",
        "\n",
        "## statsmodels fit data4\n",
        "start_time = time.time()\n",
        "statsmodels_results4 = sm.OLS(y, X).fit()\n",
        "statsmodels_results4.summary()\n",
        "end_time = time.time()\n",
        "elapsed_time_fit_sm4 = (end_time - start_time) * 1000\n",
        "\n",
        "# salmon predict4\n",
        "start_time = time.time()\n",
        "salmon_model4.predict(data2)\n",
        "end_time = time.time()\n",
        "elapsed_time_pred_sal4 = (end_time - start_time) * 1000\n",
        "\n",
        "## statsmodels predict4\n",
        "start_time = time.time()\n",
        "statsmodels_results4.predict(X)\n",
        "end_time = time.time()\n",
        "elapsed_time_pred_sm4 = (end_time - start_time) * 1000\n",
        "\n",
        "# Salmon confidence intervals4\n",
        "start_time = time.time()\n",
        "salmon_model4.confidence_intervals(alpha=0.05)\n",
        "end_time = time.time()\n",
        "elapsed_time_ci_sal4 = (end_time - start_time) * 1000\n",
        "\n",
        "## statsmodels confidence intervals4\n",
        "start_time = time.time()\n",
        "statsmodels_results4.conf_int(alpha=0.05, cols=None)\n",
        "end_time = time.time()\n",
        "elapsed_time_ci_sm4 = (end_time - start_time) * 1000"
      ],
      "execution_count": null,
      "outputs": []
    },
    {
      "cell_type": "code",
      "metadata": {
        "id": "W7Hyd2ky3GJS"
      },
      "source": [
        "%%R\n",
        "\n",
        "## R fit data\n",
        "start_time = Sys.time()\n",
        "R_model = lm(\"Sal77 ~ Bsal\", data=data_r)\n",
        "summary(R_model)\n",
        "end_time = Sys.time()\n",
        "elapsed_time_fit_r = (end_time - start_time) * 1000\n",
        "\n",
        "## R predict\n",
        "start_time = Sys.time()\n",
        "predict(R_model)\n",
        "end_time = Sys.time()\n",
        "elapsed_time_pred_r = (end_time - start_time) * 1000\n",
        "\n",
        "## R confidence intervals\n",
        "start_time = Sys.time()\n",
        "confint(R_model)\n",
        "end_time = Sys.time()\n",
        "elapsed_time_ci_r = (end_time - start_time) * 1000\n",
        "\n",
        "# R fit data2\n",
        "start_time = Sys.time()\n",
        "R_model2 = lm(\"Sal77 ~ Sex + Age + Exper + Senior + Bsal\", data=data_r)\n",
        "summary(R_model2)\n",
        "end_time = Sys.time()\n",
        "elapsed_time_fit_r2 = (end_time - start_time) * 1000\n",
        "\n",
        "## R predict2\n",
        "start_time = Sys.time()\n",
        "predict(R_model2)\n",
        "end_time = Sys.time()\n",
        "elapsed_time_pred_r2 = (end_time - start_time) * 1000\n",
        "\n",
        "## R confidence intervals2\n",
        "start_time = Sys.time()\n",
        "confint(R_model2)\n",
        "end_time = Sys.time()\n",
        "elapsed_time_ci_r2 = (end_time - start_time) * 1000\n",
        "\n",
        "# R fit data3\n",
        "start_time = Sys.time()\n",
        "R_model3 = lm(\"Sal77 ~ Sex + Bsal + Exper + Sex*Bsal + Sex*Exper\", data=data_r)\n",
        "summary(R_model3)\n",
        "end_time = Sys.time()\n",
        "elapsed_time_fit_r3 = (end_time - start_time) * 1000\n",
        "\n",
        "## R predict3\n",
        "start_time = Sys.time()\n",
        "predict(R_model3)\n",
        "end_time = Sys.time()\n",
        "elapsed_time_pred_r3 = (end_time - start_time) * 1000\n",
        "\n",
        "## R confidence intervals3\n",
        "start_time = Sys.time()\n",
        "confint(R_model3)\n",
        "end_time = Sys.time()\n",
        "elapsed_time_ci_r3 = (end_time - start_time) * 1000\n",
        "\n",
        "# R fit data4\n",
        "start_time = Sys.time()\n",
        "R_model4 = lm(\"y ~ .\", data=rdf)\n",
        "summary(R_model)\n",
        "end_time = Sys.time()\n",
        "elapsed_time_fit_r4 = (end_time - start_time) * 1000\n",
        "\n",
        "## R predict4\n",
        "start_time = Sys.time()\n",
        "predict(R_model4)\n",
        "end_time = Sys.time()\n",
        "elapsed_time_pred_r4 = (end_time - start_time) * 1000\n",
        "\n",
        "## R confidence intervals4\n",
        "start_time = Sys.time()\n",
        "confint(R_model4)\n",
        "end_time = Sys.time()\n",
        "elapsed_time_ci_r4 = (end_time - start_time) * 1000"
      ],
      "execution_count": null,
      "outputs": []
    },
    {
      "cell_type": "code",
      "metadata": {
        "id": "iJKVmaFf3GYt",
        "colab": {
          "base_uri": "https://localhost:8080/"
        },
        "outputId": "d4dad1c5-937a-4534-dc7e-9a67fccd2cc1"
      },
      "source": [
        "elapsed_time_fit_r = %Rget elapsed_time_fit_r\n",
        "elapsed_time_pred_r = %Rget elapsed_time_pred_r\n",
        "elapsed_time_ci_r = %Rget elapsed_time_ci_r\n",
        "elapsed_time_fit_r2 = %Rget elapsed_time_fit_r2\n",
        "elapsed_time_pred_r2 = %Rget elapsed_time_pred_r2\n",
        "elapsed_time_ci_r2 = %Rget elapsed_time_ci_r2\n",
        "elapsed_time_fit_r3 = %Rget elapsed_time_fit_r3\n",
        "elapsed_time_pred_r3 = %Rget elapsed_time_pred_r3\n",
        "elapsed_time_ci_r3= %Rget elapsed_time_ci_r3\n",
        "elapsed_time_fit_r4 = %Rget elapsed_time_fit_r4\n",
        "elapsed_time_pred_r4 = %Rget elapsed_time_pred_r4\n",
        "elapsed_time_ci_r4 = %Rget elapsed_time_ci_r4\n",
        "\n",
        "table = [\n",
        "[\"Fit\",  elapsed_time_fit_sal, elapsed_time_fit_sm, elapsed_time_fit_r[0]],\n",
        "[\"Predict\", elapsed_time_pred_sal, elapsed_time_pred_sm, elapsed_time_pred_r[0]],\n",
        "[\"CI\", elapsed_time_ci_sal, elapsed_time_ci_sm, elapsed_time_ci_r[0]],\n",
        "[\"Fit2\",  elapsed_time_fit_sal2, elapsed_time_fit_sm2, elapsed_time_fit_r2[0]],\n",
        "[\"Predict2\", elapsed_time_pred_sal2, elapsed_time_pred_sm2, elapsed_time_pred_r2[0]],\n",
        "[\"CI2\", elapsed_time_ci_sal2, elapsed_time_ci_sm2, elapsed_time_ci_r2[0]],\n",
        "[\"Fit3\",  elapsed_time_fit_sal3, elapsed_time_fit_sm3, elapsed_time_fit_r3[0]],\n",
        "[\"Predict3\", elapsed_time_pred_sal3, elapsed_time_pred_sm3, elapsed_time_pred_r3[0]],\n",
        "[\"CI3\", elapsed_time_ci_sal3, elapsed_time_ci_sm3, elapsed_time_ci_r3[0]],\n",
        "[\"Fit4\",  elapsed_time_fit_sal4, elapsed_time_fit_sm4, elapsed_time_fit_r4[0]],\n",
        "[\"Predict4\", elapsed_time_pred_sal4, elapsed_time_pred_sm4, elapsed_time_pred_r4[0]],\n",
        "[\"CI4\", elapsed_time_ci_sal4, elapsed_time_ci_sm4, elapsed_time_ci_r4[0]],\n",
        "]\n",
        "print (tabulate(table, headers=[\"Test\", \"Salmon\", \"statsmodels\", \"R\"]))"
      ],
      "execution_count": null,
      "outputs": [
        {
          "output_type": "stream",
          "name": "stdout",
          "text": [
            "Test           Salmon    statsmodels            R\n",
            "--------  -----------  -------------  -----------\n",
            "Fit          3.02792       10.5846       2.36034\n",
            "Predict      0.798702       2.62761      1.66464\n",
            "CI           1.41668        0.926971     0.423193\n",
            "Fit2         5.44786       22.6378       1.72496\n",
            "Predict2     2.15983        7.47132      0.662565\n",
            "CI2          1.49512        0.828505     0.325203\n",
            "Fit3         8.28505       16.7458       1.41954\n",
            "Predict3     3.59797        5.03325      0.555277\n",
            "CI3          1.51277        1.02782      0.320435\n",
            "Fit4      2218.52        7384.75      5115.14\n",
            "Predict4   293.253         22.9208     185.411\n",
            "CI4          2.16842        3.6304      45.7728\n"
          ]
        }
      ]
    }
  ]
}