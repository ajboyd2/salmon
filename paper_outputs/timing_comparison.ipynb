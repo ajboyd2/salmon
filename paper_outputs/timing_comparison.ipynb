{
  "nbformat": 4,
  "nbformat_minor": 0,
  "metadata": {
    "colab": {
      "name": "Salmon timing comparison.ipynb",
      "provenance": [],
      "collapsed_sections": []
    },
    "kernelspec": {
      "name": "python3",
      "display_name": "Python 3"
    }
  },
  "cells": [
    {
      "cell_type": "code",
      "metadata": {
        "id": "w1EHRGpYaz4g"
      },
      "source": [
        "#!pip install salmon-lm==1.0.3"
      ],
      "execution_count": null,
      "outputs": []
    },
    {
      "cell_type": "code",
      "metadata": {
        "colab": {
          "base_uri": "https://localhost:8080/"
        },
        "id": "Umh5-mEuGgrv",
        "outputId": "a652569a-87d2-404d-83bc-bd653dc5f454"
      },
      "source": [
        "!git clone https://github.com/ajboyd2/salmon.git"
      ],
      "execution_count": null,
      "outputs": [
        {
          "output_type": "stream",
          "name": "stdout",
          "text": [
            "Cloning into 'salmon'...\n",
            "remote: Enumerating objects: 965, done.\u001b[K\n",
            "remote: Counting objects: 100% (111/111), done.\u001b[K\n",
            "remote: Compressing objects: 100% (74/74), done.\u001b[K\n",
            "remote: Total 965 (delta 71), reused 68 (delta 37), pack-reused 854\u001b[K\n",
            "Receiving objects: 100% (965/965), 9.54 MiB | 31.71 MiB/s, done.\n",
            "Resolving deltas: 100% (581/581), done.\n"
          ]
        }
      ]
    },
    {
      "cell_type": "code",
      "metadata": {
        "colab": {
          "base_uri": "https://localhost:8080/"
        },
        "id": "PQVARlz7YR9s",
        "outputId": "7c12187f-4be5-4590-d158-a6ebb1171746"
      },
      "source": [
        "cd salmon"
      ],
      "execution_count": null,
      "outputs": [
        {
          "output_type": "stream",
          "name": "stdout",
          "text": [
            "/content/salmon\n"
          ]
        }
      ]
    },
    {
      "cell_type": "code",
      "metadata": {
        "colab": {
          "base_uri": "https://localhost:8080/"
        },
        "id": "PVUJrvo-jMmr",
        "outputId": "e2afae9f-5fd0-4aa7-d23e-7b4b48b574fe"
      },
      "source": [
        "!git pull"
      ],
      "execution_count": null,
      "outputs": [
        {
          "output_type": "stream",
          "name": "stdout",
          "text": [
            "Already up to date.\n"
          ]
        }
      ]
    },
    {
      "cell_type": "code",
      "metadata": {
        "colab": {
          "base_uri": "https://localhost:8080/"
        },
        "id": "EICZY0WRrp8X",
        "outputId": "763a10ae-eadf-44b6-e59d-10e78247b41d"
      },
      "source": [
        "#!git checkout remotes/origin/XY-implementation\n",
        "!python setup.py build\n",
        "!python setup.py install"
      ],
      "execution_count": null,
      "outputs": [
        {
          "output_type": "stream",
          "name": "stdout",
          "text": [
            "Note: checking out 'remotes/origin/XY-implementation'.\n",
            "\n",
            "You are in 'detached HEAD' state. You can look around, make experimental\n",
            "changes and commit them, and you can discard any commits you make in this\n",
            "state without impacting any branches by performing another checkout.\n",
            "\n",
            "If you want to create a new branch to retain commits you create, you may\n",
            "do so (now or later) by using -b with the checkout command again. Example:\n",
            "\n",
            "  git checkout -b <new-branch-name>\n",
            "\n",
            "HEAD is now at f5d4fec Fixed inplace modification of input data.\n",
            "/usr/local/lib/python3.7/dist-packages/setuptools/dist.py:700: UserWarning: Usage of dash-separated 'description-file' will not be supported in future versions. Please use the underscore name 'description_file' instead\n",
            "  % (opt, underscore_opt))\n",
            "running build\n",
            "running build_py\n",
            "creating build\n",
            "creating build/lib\n",
            "creating build/lib/salmon\n",
            "copying salmon/building.py -> build/lib/salmon\n",
            "copying salmon/transformation.py -> build/lib/salmon\n",
            "copying salmon/test.py -> build/lib/salmon\n",
            "copying salmon/comparison.py -> build/lib/salmon\n",
            "copying salmon/model.py -> build/lib/salmon\n",
            "copying salmon/expression.py -> build/lib/salmon\n",
            "copying salmon/__init__.py -> build/lib/salmon\n",
            "/usr/local/lib/python3.7/dist-packages/setuptools/dist.py:700: UserWarning: Usage of dash-separated 'description-file' will not be supported in future versions. Please use the underscore name 'description_file' instead\n",
            "  % (opt, underscore_opt))\n",
            "running install\n",
            "running bdist_egg\n",
            "running egg_info\n",
            "creating salmon_lm.egg-info\n",
            "writing salmon_lm.egg-info/PKG-INFO\n",
            "writing dependency_links to salmon_lm.egg-info/dependency_links.txt\n",
            "writing requirements to salmon_lm.egg-info/requires.txt\n",
            "writing top-level names to salmon_lm.egg-info/top_level.txt\n",
            "writing manifest file 'salmon_lm.egg-info/SOURCES.txt'\n",
            "adding license file 'LICENSE.txt'\n",
            "writing manifest file 'salmon_lm.egg-info/SOURCES.txt'\n",
            "installing library code to build/bdist.linux-x86_64/egg\n",
            "running install_lib\n",
            "running build_py\n",
            "creating build/bdist.linux-x86_64\n",
            "creating build/bdist.linux-x86_64/egg\n",
            "creating build/bdist.linux-x86_64/egg/salmon\n",
            "copying build/lib/salmon/building.py -> build/bdist.linux-x86_64/egg/salmon\n",
            "copying build/lib/salmon/transformation.py -> build/bdist.linux-x86_64/egg/salmon\n",
            "copying build/lib/salmon/test.py -> build/bdist.linux-x86_64/egg/salmon\n",
            "copying build/lib/salmon/comparison.py -> build/bdist.linux-x86_64/egg/salmon\n",
            "copying build/lib/salmon/model.py -> build/bdist.linux-x86_64/egg/salmon\n",
            "copying build/lib/salmon/expression.py -> build/bdist.linux-x86_64/egg/salmon\n",
            "copying build/lib/salmon/__init__.py -> build/bdist.linux-x86_64/egg/salmon\n",
            "byte-compiling build/bdist.linux-x86_64/egg/salmon/building.py to building.cpython-37.pyc\n",
            "byte-compiling build/bdist.linux-x86_64/egg/salmon/transformation.py to transformation.cpython-37.pyc\n",
            "byte-compiling build/bdist.linux-x86_64/egg/salmon/test.py to test.cpython-37.pyc\n",
            "byte-compiling build/bdist.linux-x86_64/egg/salmon/comparison.py to comparison.cpython-37.pyc\n",
            "byte-compiling build/bdist.linux-x86_64/egg/salmon/model.py to model.cpython-37.pyc\n",
            "byte-compiling build/bdist.linux-x86_64/egg/salmon/expression.py to expression.cpython-37.pyc\n",
            "byte-compiling build/bdist.linux-x86_64/egg/salmon/__init__.py to __init__.cpython-37.pyc\n",
            "creating build/bdist.linux-x86_64/egg/EGG-INFO\n",
            "copying salmon_lm.egg-info/PKG-INFO -> build/bdist.linux-x86_64/egg/EGG-INFO\n",
            "copying salmon_lm.egg-info/SOURCES.txt -> build/bdist.linux-x86_64/egg/EGG-INFO\n",
            "copying salmon_lm.egg-info/dependency_links.txt -> build/bdist.linux-x86_64/egg/EGG-INFO\n",
            "copying salmon_lm.egg-info/requires.txt -> build/bdist.linux-x86_64/egg/EGG-INFO\n",
            "copying salmon_lm.egg-info/top_level.txt -> build/bdist.linux-x86_64/egg/EGG-INFO\n",
            "zip_safe flag not set; analyzing archive contents...\n",
            "creating dist\n",
            "creating 'dist/salmon_lm-1.0.2-py3.7.egg' and adding 'build/bdist.linux-x86_64/egg' to it\n",
            "removing 'build/bdist.linux-x86_64/egg' (and everything under it)\n",
            "Processing salmon_lm-1.0.2-py3.7.egg\n",
            "Copying salmon_lm-1.0.2-py3.7.egg to /usr/local/lib/python3.7/dist-packages\n",
            "Adding salmon-lm 1.0.2 to easy-install.pth file\n",
            "\n",
            "Installed /usr/local/lib/python3.7/dist-packages/salmon_lm-1.0.2-py3.7.egg\n",
            "Processing dependencies for salmon-lm==1.0.2\n",
            "Searching for scipy==1.4.1\n",
            "Best match: scipy 1.4.1\n",
            "Adding scipy 1.4.1 to easy-install.pth file\n",
            "\n",
            "Using /usr/local/lib/python3.7/dist-packages\n",
            "Searching for matplotlib==3.2.2\n",
            "Best match: matplotlib 3.2.2\n",
            "Adding matplotlib 3.2.2 to easy-install.pth file\n",
            "\n",
            "Using /usr/local/lib/python3.7/dist-packages\n",
            "Searching for numpy==1.19.5\n",
            "Best match: numpy 1.19.5\n",
            "Adding numpy 1.19.5 to easy-install.pth file\n",
            "Installing f2py script to /usr/local/bin\n",
            "Installing f2py3 script to /usr/local/bin\n",
            "Installing f2py3.7 script to /usr/local/bin\n",
            "\n",
            "Using /usr/local/lib/python3.7/dist-packages\n",
            "Searching for pandas==1.1.5\n",
            "Best match: pandas 1.1.5\n",
            "Adding pandas 1.1.5 to easy-install.pth file\n",
            "\n",
            "Using /usr/local/lib/python3.7/dist-packages\n",
            "Searching for cycler==0.10.0\n",
            "Best match: cycler 0.10.0\n",
            "Adding cycler 0.10.0 to easy-install.pth file\n",
            "\n",
            "Using /usr/local/lib/python3.7/dist-packages\n",
            "Searching for kiwisolver==1.3.2\n",
            "Best match: kiwisolver 1.3.2\n",
            "Adding kiwisolver 1.3.2 to easy-install.pth file\n",
            "\n",
            "Using /usr/local/lib/python3.7/dist-packages\n",
            "Searching for pyparsing==2.4.7\n",
            "Best match: pyparsing 2.4.7\n",
            "Adding pyparsing 2.4.7 to easy-install.pth file\n",
            "\n",
            "Using /usr/local/lib/python3.7/dist-packages\n",
            "Searching for python-dateutil==2.8.2\n",
            "Best match: python-dateutil 2.8.2\n",
            "Adding python-dateutil 2.8.2 to easy-install.pth file\n",
            "\n",
            "Using /usr/local/lib/python3.7/dist-packages\n",
            "Searching for pytz==2018.9\n",
            "Best match: pytz 2018.9\n",
            "Adding pytz 2018.9 to easy-install.pth file\n",
            "\n",
            "Using /usr/local/lib/python3.7/dist-packages\n",
            "Searching for six==1.15.0\n",
            "Best match: six 1.15.0\n",
            "Adding six 1.15.0 to easy-install.pth file\n",
            "\n",
            "Using /usr/local/lib/python3.7/dist-packages\n",
            "Finished processing dependencies for salmon-lm==1.0.2\n"
          ]
        }
      ]
    },
    {
      "cell_type": "code",
      "metadata": {
        "colab": {
          "base_uri": "https://localhost:8080/"
        },
        "id": "HYQmi7eElPLT",
        "outputId": "5cd70a32-74ef-4c9e-939e-42ced41b259b"
      },
      "source": [
        "!pip install rpy2 \n",
        "%load_ext rpy2.ipython"
      ],
      "execution_count": null,
      "outputs": [
        {
          "output_type": "stream",
          "name": "stdout",
          "text": [
            "Requirement already satisfied: rpy2 in /usr/local/lib/python3.7/dist-packages (3.4.5)\n",
            "Requirement already satisfied: tzlocal in /usr/local/lib/python3.7/dist-packages (from rpy2) (1.5.1)\n",
            "Requirement already satisfied: pytz in /usr/local/lib/python3.7/dist-packages (from rpy2) (2018.9)\n",
            "Requirement already satisfied: jinja2 in /usr/local/lib/python3.7/dist-packages (from rpy2) (2.11.3)\n",
            "Requirement already satisfied: cffi>=1.10.0 in /usr/local/lib/python3.7/dist-packages (from rpy2) (1.14.6)\n",
            "Requirement already satisfied: pycparser in /usr/local/lib/python3.7/dist-packages (from cffi>=1.10.0->rpy2) (2.20)\n",
            "Requirement already satisfied: MarkupSafe>=0.23 in /usr/local/lib/python3.7/dist-packages (from jinja2->rpy2) (2.0.1)\n"
          ]
        }
      ]
    },
    {
      "cell_type": "code",
      "metadata": {
        "id": "0sezSHIt3sTn",
        "colab": {
          "base_uri": "https://localhost:8080/"
        },
        "outputId": "6aab1c7f-3b92-477f-b41f-3bc33b0f1b58"
      },
      "source": [
        "import pandas as pd\n",
        "from salmon import *\n",
        "%matplotlib inline\n",
        "import statsmodels.api as sm\n",
        "import statsmodels.formula.api as smf\n",
        "import time\n",
        "from tabulate import tabulate\n",
        "import numpy as np\n",
        "import cProfile"
      ],
      "execution_count": null,
      "outputs": [
        {
          "output_type": "stream",
          "name": "stderr",
          "text": [
            "/usr/local/lib/python3.7/dist-packages/statsmodels/tools/_testing.py:19: FutureWarning: pandas.util.testing is deprecated. Use the functions in the public API at pandas.testing instead.\n",
            "  import pandas.util.testing as tm\n"
          ]
        }
      ]
    },
    {
      "cell_type": "code",
      "metadata": {
        "id": "m1Q79wHx4I0v"
      },
      "source": [
        "data = pd.read_csv(\"data/harris.csv\")"
      ],
      "execution_count": null,
      "outputs": []
    },
    {
      "cell_type": "code",
      "metadata": {
        "id": "JS6cN3y3v7pe"
      },
      "source": [
        "%%R\n",
        "data_r <- read.csv(\"data/harris.csv\")"
      ],
      "execution_count": null,
      "outputs": []
    },
    {
      "cell_type": "code",
      "metadata": {
        "id": "Ka2Ff_72pjZN"
      },
      "source": [
        "nums = np.random.randint(0,50000,size=(10000,1000))\n",
        "data2 = pd.DataFrame(nums)\n",
        "y = data2.loc[:,0]\n",
        "X = data2.iloc[:,1:]\n",
        "cols = data2.columns"
      ],
      "execution_count": null,
      "outputs": []
    },
    {
      "cell_type": "code",
      "metadata": {
        "id": "JJ4zoCm7iyI4",
        "colab": {
          "base_uri": "https://localhost:8080/"
        },
        "outputId": "db65a2ad-3e5a-4155-c923-a0906bec1cc1"
      },
      "source": [
        "%R -i data2,cols colnames(data2) <- unlist(cols);\n",
        "%R rdf <- data.frame(data2);\n",
        "%R y = rdf$X0\n",
        "%R X = data.matrix(rdf[,-1])"
      ],
      "execution_count": null,
      "outputs": [
        {
          "output_type": "execute_result",
          "data": {
            "text/plain": [
              "array([[12916, 24464, 24850, ...,  2558, 12810, 28685],\n",
              "       [42335,  9706,  3754, ...,  3909, 16846, 17665],\n",
              "       [31640,  3916, 46127, ...,  8527, 33160, 27781],\n",
              "       ...,\n",
              "       [ 4812, 22980,  6296, ..., 18749, 38691, 28466],\n",
              "       [  639, 20021, 29387, ...,  6808, 16144,  4016],\n",
              "       [26776, 16674,  9809, ..., 35624, 41080, 20652]], dtype=int32)"
            ]
          },
          "metadata": {},
          "execution_count": 13
        }
      ]
    },
    {
      "cell_type": "code",
      "metadata": {
        "id": "2eIUEW6m7pK7"
      },
      "source": [
        "## salmon fit data\n",
        "start_time = time.time()\n",
        "explanatory = Q(\"Bsal\")\n",
        "response = Q(\"Sal77\")\n",
        "salmon_model = LinearModel(explanatory, response)\n",
        "salmon_model.fit(data)\n",
        "end_time = time.time()\n",
        "elapsed_time_fit_sal = (end_time - start_time) * 1000\n",
        "\n",
        "## statsmodels fit data\n",
        "start_time = time.time()\n",
        "statsmodels_results = smf.ols(\"Sal77 ~ Bsal\", data=data).fit()\n",
        "statsmodels_results.summary()\n",
        "end_time = time.time()\n",
        "elapsed_time_fit_sm = (end_time - start_time) * 1000\n",
        "\n",
        "## salmon predict\n",
        "start_time = time.time()\n",
        "salmon_model.predict(data)\n",
        "end_time = time.time()\n",
        "elapsed_time_pred_sal = (end_time - start_time) * 1000\n",
        "\n",
        "## statsmodels predict\n",
        "start_time = time.time()\n",
        "statsmodels_results.predict(data)\n",
        "end_time = time.time()\n",
        "elapsed_time_pred_sm = (end_time - start_time) * 1000\n",
        "\n",
        "## Salmon confidence intervals\n",
        "start_time = time.time()\n",
        "salmon_model.confidence_intervals(alpha=0.05)\n",
        "end_time = time.time()\n",
        "elapsed_time_ci_sal = (end_time - start_time) * 1000\n",
        "\n",
        "## statsmodels confidence intervals\n",
        "start_time = time.time()\n",
        "statsmodels_results.conf_int(alpha=0.05, cols=None)\n",
        "end_time = time.time()\n",
        "elapsed_time_ci_sm = (end_time - start_time) * 1000\n",
        "\n",
        "## salmon fit data2\n",
        "start_time = time.time()\n",
        "explanatory2 = C(\"Sex\") + Q(\"Age\") + Q(\"Exper\") + Q(\"Senior\") + Q(\"Bsal\")\n",
        "response2 = Q(\"Sal77\")\n",
        "salmon_model2 = LinearModel(explanatory2, response2)\n",
        "salmon_model2.fit(data)\n",
        "end_time = time.time()\n",
        "elapsed_time_fit_sal2 = (end_time - start_time) * 1000\n",
        "\n",
        "## statsmodels fit data2\n",
        "start_time = time.time()\n",
        "statsmodels_results2 = smf.ols(\"Sal77 ~ Sex + Age + Exper + Senior + Bsal\", data=data).fit()\n",
        "statsmodels_results2.summary()\n",
        "end_time = time.time()\n",
        "elapsed_time_fit_sm2 = (end_time - start_time) * 1000\n",
        "\n",
        "## salmon predict2\n",
        "start_time = time.time()\n",
        "salmon_model2.predict(data)\n",
        "end_time = time.time()\n",
        "elapsed_time_pred_sal2 = (end_time - start_time) * 1000\n",
        "\n",
        "## statsmodels predict2\n",
        "start_time = time.time()\n",
        "statsmodels_results2.predict(data)\n",
        "end_time = time.time()\n",
        "elapsed_time_pred_sm2 = (end_time - start_time) * 1000\n",
        "\n",
        "## Salmon confidence intervals2\n",
        "start_time = time.time()\n",
        "salmon_model2.confidence_intervals(alpha=0.05)\n",
        "end_time = time.time()\n",
        "elapsed_time_ci_sal2 = (end_time - start_time) * 1000\n",
        "\n",
        "## statsmodels confidence intervals2\n",
        "start_time = time.time()\n",
        "statsmodels_results2.conf_int(alpha=0.05, cols=None)\n",
        "end_time = time.time()\n",
        "elapsed_time_ci_sm2 = (end_time - start_time) * 1000\n",
        "\n",
        "## salmon fit data3\n",
        "start_time = time.time()\n",
        "explanatory3 = C(\"Sex\") + Q(\"Bsal\") +  Q(\"Exper\") + C(\"Sex\") * Q(\"Bsal\") + C(\"Sex\") * Q(\"Exper\")\n",
        "response3 = Q(\"Sal77\")\n",
        "salmon_model3 = LinearModel(explanatory3, response3)\n",
        "salmon_model3.fit(data)\n",
        "end_time = time.time()\n",
        "elapsed_time_fit_sal3 = (end_time - start_time) * 1000\n",
        "\n",
        "## statsmodels fit data3\n",
        "start_time = time.time()\n",
        "statsmodels_results3 = smf.ols('Sal77 ~ Sex + Bsal + Exper + Sex*Bsal + Sex*Exper', data=data).fit()\n",
        "statsmodels_results3.summary()\n",
        "end_time = time.time()\n",
        "elapsed_time_fit_sm3 = (end_time - start_time) * 1000\n",
        "\n",
        "## salmon predict3\n",
        "start_time = time.time()\n",
        "salmon_model3.predict(data)\n",
        "end_time = time.time()\n",
        "elapsed_time_pred_sal3 = (end_time - start_time) * 1000\n",
        "\n",
        "## statsmodels predict3\n",
        "start_time = time.time()\n",
        "statsmodels_results3.predict(data)\n",
        "end_time = time.time()\n",
        "elapsed_time_pred_sm3 = (end_time - start_time) * 1000\n",
        "\n",
        "## Salmon confidence intervals3\n",
        "start_time = time.time()\n",
        "salmon_model3.confidence_intervals(alpha=0.05)\n",
        "end_time = time.time()\n",
        "elapsed_time_ci_sal3 = (end_time - start_time) * 1000\n",
        "\n",
        "## statsmodels confidence intervals3\n",
        "start_time = time.time()\n",
        "statsmodels_results3.conf_int(alpha=0.05, cols=None)\n",
        "end_time = time.time()\n",
        "elapsed_time_ci_sm3 = (end_time - start_time) * 1000\n",
        "\n",
        "# salmon fit data4\n",
        "y = data2.loc[:,0]\n",
        "X = data2.iloc[:,1:]\n",
        "start_time = time.time()\n",
        "salmon_model4 = LinearModel(X, y)\n",
        "salmon_model4.fit()\n",
        "end_time = time.time()\n",
        "elapsed_time_fit_sal4 = (end_time - start_time) * 1000\n",
        "\n",
        "## statsmodels fit data4\n",
        "start_time = time.time()\n",
        "statsmodels_results4 = sm.OLS(y, X).fit()\n",
        "statsmodels_results4.summary()\n",
        "end_time = time.time()\n",
        "elapsed_time_fit_sm4 = (end_time - start_time) * 1000\n",
        "\n",
        "# salmon predict4\n",
        "start_time = time.time()\n",
        "salmon_model4.predict(data2)\n",
        "end_time = time.time()\n",
        "elapsed_time_pred_sal4 = (end_time - start_time) * 1000\n",
        "\n",
        "## statsmodels predict4\n",
        "start_time = time.time()\n",
        "statsmodels_results4.predict(X)\n",
        "end_time = time.time()\n",
        "elapsed_time_pred_sm4 = (end_time - start_time) * 1000\n",
        "\n",
        "# Salmon confidence intervals4\n",
        "start_time = time.time()\n",
        "salmon_model4.confidence_intervals(alpha=0.05)\n",
        "end_time = time.time()\n",
        "elapsed_time_ci_sal4 = (end_time - start_time) * 1000\n",
        "\n",
        "## statsmodels confidence intervals4\n",
        "start_time = time.time()\n",
        "statsmodels_results4.conf_int(alpha=0.05, cols=None)\n",
        "end_time = time.time()\n",
        "elapsed_time_ci_sm4 = (end_time - start_time) * 1000"
      ],
      "execution_count": null,
      "outputs": []
    },
    {
      "cell_type": "code",
      "metadata": {
        "id": "W7Hyd2ky3GJS"
      },
      "source": [
        "%%R\n",
        "\n",
        "## R fit data\n",
        "start_time = Sys.time()\n",
        "R_model = lm(\"Sal77 ~ Bsal\", data=data_r)\n",
        "summary(R_model)\n",
        "end_time = Sys.time()\n",
        "elapsed_time_fit_r = (end_time - start_time) * 1000\n",
        "\n",
        "## R predict\n",
        "start_time = Sys.time()\n",
        "predict(R_model)\n",
        "end_time = Sys.time()\n",
        "elapsed_time_pred_r = (end_time - start_time) * 1000\n",
        "\n",
        "## R confidence intervals\n",
        "start_time = Sys.time()\n",
        "confint(R_model)\n",
        "end_time = Sys.time()\n",
        "elapsed_time_ci_r = (end_time - start_time) * 1000\n",
        "\n",
        "# R fit data2\n",
        "start_time = Sys.time()\n",
        "R_model2 = lm(\"Sal77 ~ Sex + Age + Exper + Senior + Bsal\", data=data_r)\n",
        "summary(R_model2)\n",
        "end_time = Sys.time()\n",
        "elapsed_time_fit_r2 = (end_time - start_time) * 1000\n",
        "\n",
        "## R predict2\n",
        "start_time = Sys.time()\n",
        "predict(R_model2)\n",
        "end_time = Sys.time()\n",
        "elapsed_time_pred_r2 = (end_time - start_time) * 1000\n",
        "\n",
        "## R confidence intervals2\n",
        "start_time = Sys.time()\n",
        "confint(R_model2)\n",
        "end_time = Sys.time()\n",
        "elapsed_time_ci_r2 = (end_time - start_time) * 1000\n",
        "\n",
        "# R fit data3\n",
        "start_time = Sys.time()\n",
        "R_model3 = lm(\"Sal77 ~ Sex + Bsal + Exper + Sex*Bsal + Sex*Exper\", data=data_r)\n",
        "summary(R_model3)\n",
        "end_time = Sys.time()\n",
        "elapsed_time_fit_r3 = (end_time - start_time) * 1000\n",
        "\n",
        "## R predict3\n",
        "start_time = Sys.time()\n",
        "predict(R_model3)\n",
        "end_time = Sys.time()\n",
        "elapsed_time_pred_r3 = (end_time - start_time) * 1000\n",
        "\n",
        "## R confidence intervals3\n",
        "start_time = Sys.time()\n",
        "confint(R_model3)\n",
        "end_time = Sys.time()\n",
        "elapsed_time_ci_r3 = (end_time - start_time) * 1000\n",
        "\n",
        "# R fit data4\n",
        "start_time = Sys.time()\n",
        "R_model4 = lm(\"y ~ .\", data=rdf)\n",
        "summary(R_model)\n",
        "end_time = Sys.time()\n",
        "elapsed_time_fit_r4 = (end_time - start_time) * 1000\n",
        "\n",
        "## R predict4\n",
        "start_time = Sys.time()\n",
        "predict(R_model4)\n",
        "end_time = Sys.time()\n",
        "elapsed_time_pred_r4 = (end_time - start_time) * 1000\n",
        "\n",
        "## R confidence intervals4\n",
        "start_time = Sys.time()\n",
        "confint(R_model4)\n",
        "end_time = Sys.time()\n",
        "elapsed_time_ci_r4 = (end_time - start_time) * 1000"
      ],
      "execution_count": null,
      "outputs": []
    },
    {
      "cell_type": "code",
      "metadata": {
        "id": "iJKVmaFf3GYt",
        "colab": {
          "base_uri": "https://localhost:8080/"
        },
        "outputId": "d4dad1c5-937a-4534-dc7e-9a67fccd2cc1"
      },
      "source": [
        "elapsed_time_fit_r = %Rget elapsed_time_fit_r\n",
        "elapsed_time_pred_r = %Rget elapsed_time_pred_r\n",
        "elapsed_time_ci_r = %Rget elapsed_time_ci_r\n",
        "elapsed_time_fit_r2 = %Rget elapsed_time_fit_r2\n",
        "elapsed_time_pred_r2 = %Rget elapsed_time_pred_r2\n",
        "elapsed_time_ci_r2 = %Rget elapsed_time_ci_r2\n",
        "elapsed_time_fit_r3 = %Rget elapsed_time_fit_r3\n",
        "elapsed_time_pred_r3 = %Rget elapsed_time_pred_r3\n",
        "elapsed_time_ci_r3= %Rget elapsed_time_ci_r3\n",
        "elapsed_time_fit_r4 = %Rget elapsed_time_fit_r4\n",
        "elapsed_time_pred_r4 = %Rget elapsed_time_pred_r4\n",
        "elapsed_time_ci_r4 = %Rget elapsed_time_ci_r4\n",
        "\n",
        "table = [\n",
        "[\"Fit\",  elapsed_time_fit_sal, elapsed_time_fit_sm, elapsed_time_fit_r[0]],\n",
        "[\"Predict\", elapsed_time_pred_sal, elapsed_time_pred_sm, elapsed_time_pred_r[0]],\n",
        "[\"CI\", elapsed_time_ci_sal, elapsed_time_ci_sm, elapsed_time_ci_r[0]],\n",
        "[\"Fit2\",  elapsed_time_fit_sal2, elapsed_time_fit_sm2, elapsed_time_fit_r2[0]],\n",
        "[\"Predict2\", elapsed_time_pred_sal2, elapsed_time_pred_sm2, elapsed_time_pred_r2[0]],\n",
        "[\"CI2\", elapsed_time_ci_sal2, elapsed_time_ci_sm2, elapsed_time_ci_r2[0]],\n",
        "[\"Fit3\",  elapsed_time_fit_sal3, elapsed_time_fit_sm3, elapsed_time_fit_r3[0]],\n",
        "[\"Predict3\", elapsed_time_pred_sal3, elapsed_time_pred_sm3, elapsed_time_pred_r3[0]],\n",
        "[\"CI3\", elapsed_time_ci_sal3, elapsed_time_ci_sm3, elapsed_time_ci_r3[0]],\n",
        "[\"Fit4\",  elapsed_time_fit_sal4, elapsed_time_fit_sm4, elapsed_time_fit_r4[0]],\n",
        "[\"Predict4\", elapsed_time_pred_sal4, elapsed_time_pred_sm4, elapsed_time_pred_r4[0]],\n",
        "[\"CI4\", elapsed_time_ci_sal4, elapsed_time_ci_sm4, elapsed_time_ci_r4[0]],\n",
        "]\n",
        "print (tabulate(table, headers=[\"Test\", \"Salmon\", \"statsmodels\", \"R\"]))"
      ],
      "execution_count": null,
      "outputs": [
        {
          "output_type": "stream",
          "name": "stdout",
          "text": [
            "Test           Salmon    statsmodels            R\n",
            "--------  -----------  -------------  -----------\n",
            "Fit          3.02792       10.5846       2.36034\n",
            "Predict      0.798702       2.62761      1.66464\n",
            "CI           1.41668        0.926971     0.423193\n",
            "Fit2         5.44786       22.6378       1.72496\n",
            "Predict2     2.15983        7.47132      0.662565\n",
            "CI2          1.49512        0.828505     0.325203\n",
            "Fit3         8.28505       16.7458       1.41954\n",
            "Predict3     3.59797        5.03325      0.555277\n",
            "CI3          1.51277        1.02782      0.320435\n",
            "Fit4      2218.52        7384.75      5115.14\n",
            "Predict4   293.253         22.9208     185.411\n",
            "CI4          2.16842        3.6304      45.7728\n"
          ]
        }
      ]
    }
  ]
}