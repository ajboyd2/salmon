{
 "cells": [
  {
   "cell_type": "markdown",
   "metadata": {},
   "source": [
    "# _SALMON_\n",
    "\n",
    "Salmon is a package for symbolic algebra of linear regression and modeling. The goal for this package is to ease the process of model building for linear regression by separating the model (with all its interactions and variables) from the data being used to fit it. \n",
    "\n",
    "If you would like to use Salmon yourself, first clone the repository. Then, navigate into the repository directory. Once inside, enter the following commands:\n",
    "\n",
    "```\n",
    "> python setup.py build\n",
    "> python setup.py install\n",
    "```\n",
    "\n",
    "From there, the Salmon package should be ready for use and can be imported as `salmon`.\n"
   ]
  },
  {
   "cell_type": "markdown",
   "metadata": {},
   "source": [
    "# Modeling Use Cases\n",
    "\n",
    "Let's analyze a few use cases where we would utilize _salmon_ to model linear regression with this dataset. The format of this section will present information in the following format:\n",
    "\n",
    "1. Present the formal model definition for a use case scenario\n",
    "2. Represent the model using _salmon_\n",
    "3. Fit the model and present the coefficients alongside statistics\n",
    "4. Visualize the model if applicable"
   ]
  },
  {
   "cell_type": "markdown",
   "metadata": {},
   "source": [
    "For the purpose of this documentation we will be using the Harris Bank dataset for our examples."
   ]
  },
  {
   "cell_type": "code",
   "execution_count": 1,
   "metadata": {
    "collapsed": false
   },
   "outputs": [
    {
     "data": {
      "text/html": [
       "<div>\n",
       "<table border=\"1\" class=\"dataframe\">\n",
       "  <thead>\n",
       "    <tr style=\"text-align: right;\">\n",
       "      <th></th>\n",
       "      <th>Bsal</th>\n",
       "      <th>Sal77</th>\n",
       "      <th>Sex</th>\n",
       "      <th>Senior</th>\n",
       "      <th>Age</th>\n",
       "      <th>Educ</th>\n",
       "      <th>Exper</th>\n",
       "    </tr>\n",
       "  </thead>\n",
       "  <tbody>\n",
       "    <tr>\n",
       "      <th>0</th>\n",
       "      <td>5040</td>\n",
       "      <td>12420</td>\n",
       "      <td>Male</td>\n",
       "      <td>96</td>\n",
       "      <td>329</td>\n",
       "      <td>15</td>\n",
       "      <td>14.0</td>\n",
       "    </tr>\n",
       "    <tr>\n",
       "      <th>1</th>\n",
       "      <td>6300</td>\n",
       "      <td>12060</td>\n",
       "      <td>Male</td>\n",
       "      <td>82</td>\n",
       "      <td>357</td>\n",
       "      <td>15</td>\n",
       "      <td>72.0</td>\n",
       "    </tr>\n",
       "    <tr>\n",
       "      <th>2</th>\n",
       "      <td>6000</td>\n",
       "      <td>15120</td>\n",
       "      <td>Male</td>\n",
       "      <td>67</td>\n",
       "      <td>315</td>\n",
       "      <td>15</td>\n",
       "      <td>35.5</td>\n",
       "    </tr>\n",
       "  </tbody>\n",
       "</table>\n",
       "</div>"
      ],
      "text/plain": [
       "   Bsal  Sal77   Sex  Senior  Age  Educ  Exper\n",
       "0  5040  12420  Male      96  329    15   14.0\n",
       "1  6300  12060  Male      82  357    15   72.0\n",
       "2  6000  15120  Male      67  315    15   35.5"
      ]
     },
     "execution_count": 1,
     "metadata": {},
     "output_type": "execute_result"
    }
   ],
   "source": [
    "import pandas as pd\n",
    "from salmon import *\n",
    "%matplotlib inline\n",
    "data = pd.read_csv(\"https://raw.githubusercontent.com/ajboyd2/salmon/master/harris.csv?token=ALLqgTETWQA0oazyRLEKrqqv5a7H9aO5ks5ZQNpNwA%3D%3D\")\n",
    "data.head(3)"
   ]
  },
  {
   "cell_type": "markdown",
   "metadata": {},
   "source": [
    "## Simple Linear Regression (Q)\n",
    "$$\\widehat{Sal77} = \\beta_0 + \\beta_1 \\tt{Bsal}$$"
   ]
  },
  {
   "cell_type": "code",
   "execution_count": 2,
   "metadata": {
    "collapsed": true
   },
   "outputs": [],
   "source": [
    "explanatory = Q(\"Bsal\") # Explanatory Expression\n",
    "response = Q(\"Sal77\") # Response Expression\n",
    "model = LinearModel(explanatory, response)"
   ]
  },
  {
   "cell_type": "markdown",
   "metadata": {},
   "source": [
    "Note how we did not have to specify an intercept for our explanatory expression. Should we not want an intercept, we add the `intercept = False` parameter to our model."
   ]
  },
  {
   "cell_type": "code",
   "execution_count": 3,
   "metadata": {
    "collapsed": false
   },
   "outputs": [
    {
     "data": {
      "text/html": [
       "<div>\n",
       "<table border=\"1\" class=\"dataframe\">\n",
       "  <thead>\n",
       "    <tr style=\"text-align: right;\">\n",
       "      <th></th>\n",
       "      <th>Coefficients</th>\n",
       "      <th>SE</th>\n",
       "      <th>t</th>\n",
       "      <th>p</th>\n",
       "    </tr>\n",
       "  </thead>\n",
       "  <tbody>\n",
       "    <tr>\n",
       "      <th>Intercept</th>\n",
       "      <td>4445.781845</td>\n",
       "      <td>1347.060082</td>\n",
       "      <td>3.300359</td>\n",
       "      <td>0.001385</td>\n",
       "    </tr>\n",
       "    <tr>\n",
       "      <th>Bsal</th>\n",
       "      <td>1.095223</td>\n",
       "      <td>0.245827</td>\n",
       "      <td>4.455251</td>\n",
       "      <td>0.000024</td>\n",
       "    </tr>\n",
       "  </tbody>\n",
       "</table>\n",
       "</div>"
      ],
      "text/plain": [
       "           Coefficients           SE         t         p\n",
       "Intercept   4445.781845  1347.060082  3.300359  0.001385\n",
       "Bsal           1.095223     0.245827  4.455251  0.000024"
      ]
     },
     "execution_count": 3,
     "metadata": {},
     "output_type": "execute_result"
    }
   ],
   "source": [
    "model.fit(data)"
   ]
  },
  {
   "cell_type": "markdown",
   "metadata": {},
   "source": [
    "Also note how we didn't have to only give a data frame that consisted solely of the explanatory variables. We also didn't have to give separate data for the response. Any variables needed for the model will be extracted during fitting from `data`. Any extra columns will be ignored."
   ]
  },
  {
   "cell_type": "code",
   "execution_count": 4,
   "metadata": {
    "collapsed": false
   },
   "outputs": [
    {
     "data": {
      "image/png": "[encoded data removed]",
      "text/plain": [
       "<matplotlib.figure.Figure at 0x2a5ea859c50>"
      ]
     },
     "metadata": {},
     "output_type": "display_data"
    }
   ],
   "source": [
    "model.plot()"
   ]
  },
  {
   "cell_type": "markdown",
   "metadata": {},
   "source": [
    "## Simple Linear Regression (C)\n",
    "$$\\widehat{Sal77} = \\beta_0 + \\beta_1 \\tt{Educ}$$"
   ]
  },
  {
   "cell_type": "code",
   "execution_count": 5,
   "metadata": {
    "collapsed": true
   },
   "outputs": [],
   "source": [
    "explanatory = C(\"Educ\") # Explanatory Expression\n",
    "response = Q(\"Sal77\") # Response Expression\n",
    "model = LinearModel(explanatory, response)"
   ]
  },
  {
   "cell_type": "code",
   "execution_count": 6,
   "metadata": {
    "collapsed": false
   },
   "outputs": [
    {
     "data": {
      "text/html": [
       "<div>\n",
       "<table border=\"1\" class=\"dataframe\">\n",
       "  <thead>\n",
       "    <tr style=\"text-align: right;\">\n",
       "      <th></th>\n",
       "      <th>Coefficients</th>\n",
       "      <th>SE</th>\n",
       "      <th>t</th>\n",
       "      <th>p</th>\n",
       "    </tr>\n",
       "  </thead>\n",
       "  <tbody>\n",
       "    <tr>\n",
       "      <th>Intercept</th>\n",
       "      <td>9145.000000</td>\n",
       "      <td>476.797832</td>\n",
       "      <td>19.180037</td>\n",
       "      <td>0.000000</td>\n",
       "    </tr>\n",
       "    <tr>\n",
       "      <th>Educ::12</th>\n",
       "      <td>944.795918</td>\n",
       "      <td>531.987159</td>\n",
       "      <td>1.775975</td>\n",
       "      <td>0.079194</td>\n",
       "    </tr>\n",
       "    <tr>\n",
       "      <th>Educ::15</th>\n",
       "      <td>2148.333333</td>\n",
       "      <td>573.039677</td>\n",
       "      <td>3.749013</td>\n",
       "      <td>0.000317</td>\n",
       "    </tr>\n",
       "    <tr>\n",
       "      <th>Educ::16</th>\n",
       "      <td>2765.000000</td>\n",
       "      <td>953.595663</td>\n",
       "      <td>2.899552</td>\n",
       "      <td>0.004718</td>\n",
       "    </tr>\n",
       "  </tbody>\n",
       "</table>\n",
       "</div>"
      ],
      "text/plain": [
       "           Coefficients          SE          t         p\n",
       "Intercept   9145.000000  476.797832  19.180037  0.000000\n",
       "Educ::12     944.795918  531.987159   1.775975  0.079194\n",
       "Educ::15    2148.333333  573.039677   3.749013  0.000317\n",
       "Educ::16    2765.000000  953.595663   2.899552  0.004718"
      ]
     },
     "execution_count": 6,
     "metadata": {},
     "output_type": "execute_result"
    }
   ],
   "source": [
    "model.fit(data)"
   ]
  },
  {
   "cell_type": "code",
   "execution_count": 8,
   "metadata": {
    "collapsed": false
   },
   "outputs": [
    {
     "data": {
      "image/png": "[encoded data removed]",
      "text/plain": [
       "<matplotlib.figure.Figure at 0x2a5eaf4da20>"
      ]
     },
     "metadata": {},
     "output_type": "display_data"
    }
   ],
   "source": [
    "model.plot()"
   ]
  },
  {
   "cell_type": "markdown",
   "metadata": {},
   "source": [
    "## Polynomial Regression\n",
    "$$\\widehat{Sal77} = \\beta_0 + \\beta_1 \\tt{Exper} + \\beta_2 \\tt{Exper}^2 + \\beta_3 \\tt{Exper}^3$$"
   ]
  },
  {
   "cell_type": "code",
   "execution_count": 10,
   "metadata": {
    "collapsed": true
   },
   "outputs": [],
   "source": [
    "explanatory = Q(\"Exper\") + Q(\"Exper\") ** 2 + Q(\"Exper\") ** 3 # Explanatory Expression\n",
    "# --or-- #\n",
    "explantory = Poly(\"Exper\", 3)\n",
    "response = Q(\"Sal77\") # Response Expression\n",
    "model = LinearModel(explanatory, response)"
   ]
  },
  {
   "cell_type": "code",
   "execution_count": 11,
   "metadata": {
    "collapsed": false
   },
   "outputs": [
    {
     "data": {
      "text/html": [
       "<div>\n",
       "<table border=\"1\" class=\"dataframe\">\n",
       "  <thead>\n",
       "    <tr style=\"text-align: right;\">\n",
       "      <th></th>\n",
       "      <th>Coefficients</th>\n",
       "      <th>SE</th>\n",
       "      <th>t</th>\n",
       "      <th>p</th>\n",
       "    </tr>\n",
       "  </thead>\n",
       "  <tbody>\n",
       "    <tr>\n",
       "      <th>Intercept</th>\n",
       "      <td>11188.091604</td>\n",
       "      <td>437.809011</td>\n",
       "      <td>25.554731</td>\n",
       "      <td>0.000000</td>\n",
       "    </tr>\n",
       "    <tr>\n",
       "      <th>Exper</th>\n",
       "      <td>-5.480028</td>\n",
       "      <td>12.988240</td>\n",
       "      <td>-0.421922</td>\n",
       "      <td>0.674111</td>\n",
       "    </tr>\n",
       "    <tr>\n",
       "      <th>(Exper)^2</th>\n",
       "      <td>-0.036264</td>\n",
       "      <td>0.093508</td>\n",
       "      <td>-0.387817</td>\n",
       "      <td>0.699088</td>\n",
       "    </tr>\n",
       "    <tr>\n",
       "      <th>(Exper)^3</th>\n",
       "      <td>0.000100</td>\n",
       "      <td>0.000180</td>\n",
       "      <td>0.555963</td>\n",
       "      <td>0.579647</td>\n",
       "    </tr>\n",
       "  </tbody>\n",
       "</table>\n",
       "</div>"
      ],
      "text/plain": [
       "           Coefficients          SE          t         p\n",
       "Intercept  11188.091604  437.809011  25.554731  0.000000\n",
       "Exper         -5.480028   12.988240  -0.421922  0.674111\n",
       "(Exper)^2     -0.036264    0.093508  -0.387817  0.699088\n",
       "(Exper)^3      0.000100    0.000180   0.555963  0.579647"
      ]
     },
     "execution_count": 11,
     "metadata": {},
     "output_type": "execute_result"
    }
   ],
   "source": [
    "model.fit(data)"
   ]
  },
  {
   "cell_type": "code",
   "execution_count": 12,
   "metadata": {
    "collapsed": false
   },
   "outputs": [
    {
     "data": {
      "image/png": "[encoded data removed]",
      "text/plain": [
       "<matplotlib.figure.Figure at 0x2a5ea9980b8>"
      ]
     },
     "metadata": {},
     "output_type": "display_data"
    }
   ],
   "source": [
    "model.plot()"
   ]
  },
  {
   "cell_type": "markdown",
   "metadata": {},
   "source": [
    "## Multiple Linear Regression (Q + C)\n",
    "$$\\widehat{Sal77} = \\beta_0 + \\beta_1 \\tt{Bsal} + \\beta_2 \\tt{Bsal}^2 + \\beta_3 \\tt{Educ}$$"
   ]
  },
  {
   "cell_type": "code",
   "execution_count": 13,
   "metadata": {
    "collapsed": true
   },
   "outputs": [],
   "source": [
    "explanatory = Q(\"Bsal\") + Q(\"Bsal\") ** 2 + C(\"Educ\") # Explanatory Expression\n",
    "response = Q(\"Sal77\") # Response Expression\n",
    "model = LinearModel(explanatory, response)"
   ]
  },
  {
   "cell_type": "code",
   "execution_count": 14,
   "metadata": {
    "collapsed": false
   },
   "outputs": [
    {
     "data": {
      "text/html": [
       "<div>\n",
       "<table border=\"1\" class=\"dataframe\">\n",
       "  <thead>\n",
       "    <tr style=\"text-align: right;\">\n",
       "      <th></th>\n",
       "      <th>Coefficients</th>\n",
       "      <th>SE</th>\n",
       "      <th>t</th>\n",
       "      <th>p</th>\n",
       "    </tr>\n",
       "  </thead>\n",
       "  <tbody>\n",
       "    <tr>\n",
       "      <th>Intercept</th>\n",
       "      <td>10245.879698</td>\n",
       "      <td>6932.907185</td>\n",
       "      <td>1.477862</td>\n",
       "      <td>0.143098</td>\n",
       "    </tr>\n",
       "    <tr>\n",
       "      <th>Bsal</th>\n",
       "      <td>-1.031802</td>\n",
       "      <td>2.461502</td>\n",
       "      <td>-0.419176</td>\n",
       "      <td>0.676133</td>\n",
       "    </tr>\n",
       "    <tr>\n",
       "      <th>(Bsal)^2</th>\n",
       "      <td>0.000160</td>\n",
       "      <td>0.000217</td>\n",
       "      <td>0.736249</td>\n",
       "      <td>0.463583</td>\n",
       "    </tr>\n",
       "    <tr>\n",
       "      <th>Educ::12</th>\n",
       "      <td>790.546026</td>\n",
       "      <td>515.135981</td>\n",
       "      <td>1.534636</td>\n",
       "      <td>0.128544</td>\n",
       "    </tr>\n",
       "    <tr>\n",
       "      <th>Educ::15</th>\n",
       "      <td>1595.192153</td>\n",
       "      <td>587.768209</td>\n",
       "      <td>2.713982</td>\n",
       "      <td>0.008031</td>\n",
       "    </tr>\n",
       "    <tr>\n",
       "      <th>Educ::16</th>\n",
       "      <td>1843.929547</td>\n",
       "      <td>987.718890</td>\n",
       "      <td>1.866857</td>\n",
       "      <td>0.065329</td>\n",
       "    </tr>\n",
       "  </tbody>\n",
       "</table>\n",
       "</div>"
      ],
      "text/plain": [
       "           Coefficients           SE         t         p\n",
       "Intercept  10245.879698  6932.907185  1.477862  0.143098\n",
       "Bsal          -1.031802     2.461502 -0.419176  0.676133\n",
       "(Bsal)^2       0.000160     0.000217  0.736249  0.463583\n",
       "Educ::12     790.546026   515.135981  1.534636  0.128544\n",
       "Educ::15    1595.192153   587.768209  2.713982  0.008031\n",
       "Educ::16    1843.929547   987.718890  1.866857  0.065329"
      ]
     },
     "execution_count": 14,
     "metadata": {},
     "output_type": "execute_result"
    }
   ],
   "source": [
    "model.fit(data)"
   ]
  },
  {
   "cell_type": "code",
   "execution_count": 15,
   "metadata": {
    "collapsed": false
   },
   "outputs": [
    {
     "data": {
      "image/png": "[encoded data removed]",
      "text/plain": [
       "<matplotlib.figure.Figure at 0x2a5eaf7b5c0>"
      ]
     },
     "metadata": {},
     "output_type": "display_data"
    }
   ],
   "source": [
    "model.plot()"
   ]
  },
  {
   "cell_type": "markdown",
   "metadata": {},
   "source": [
    "## Multiple Linear Regression (C's)\n",
    "$$\\widehat{Sal77} = \\beta_0 + \\beta_1 \\tt{Educ} + \\beta_2 \\tt{Sex}$$"
   ]
  },
  {
   "cell_type": "code",
   "execution_count": 16,
   "metadata": {
    "collapsed": true
   },
   "outputs": [],
   "source": [
    "explanatory = C(\"Educ\") + C(\"Sex\") # Explanatory Expression\n",
    "response = Q(\"Sal77\") # Response Expression\n",
    "model = LinearModel(explanatory, response)"
   ]
  },
  {
   "cell_type": "code",
   "execution_count": 17,
   "metadata": {
    "collapsed": false
   },
   "outputs": [
    {
     "data": {
      "text/html": [
       "<div>\n",
       "<table border=\"1\" class=\"dataframe\">\n",
       "  <thead>\n",
       "    <tr style=\"text-align: right;\">\n",
       "      <th></th>\n",
       "      <th>Coefficients</th>\n",
       "      <th>SE</th>\n",
       "      <th>t</th>\n",
       "      <th>p</th>\n",
       "    </tr>\n",
       "  </thead>\n",
       "  <tbody>\n",
       "    <tr>\n",
       "      <th>Intercept</th>\n",
       "      <td>9009.673286</td>\n",
       "      <td>428.752678</td>\n",
       "      <td>21.013684</td>\n",
       "      <td>0.000000</td>\n",
       "    </tr>\n",
       "    <tr>\n",
       "      <th>Educ::12</th>\n",
       "      <td>616.145328</td>\n",
       "      <td>482.355444</td>\n",
       "      <td>1.277368</td>\n",
       "      <td>0.204871</td>\n",
       "    </tr>\n",
       "    <tr>\n",
       "      <th>Educ::15</th>\n",
       "      <td>1381.481956</td>\n",
       "      <td>539.163816</td>\n",
       "      <td>2.562268</td>\n",
       "      <td>0.012120</td>\n",
       "    </tr>\n",
       "    <tr>\n",
       "      <th>Educ::16</th>\n",
       "      <td>2088.366432</td>\n",
       "      <td>867.496047</td>\n",
       "      <td>2.407350</td>\n",
       "      <td>0.018182</td>\n",
       "    </tr>\n",
       "    <tr>\n",
       "      <th>Sex::Male</th>\n",
       "      <td>1623.920564</td>\n",
       "      <td>343.766920</td>\n",
       "      <td>4.723900</td>\n",
       "      <td>0.000009</td>\n",
       "    </tr>\n",
       "  </tbody>\n",
       "</table>\n",
       "</div>"
      ],
      "text/plain": [
       "           Coefficients          SE          t         p\n",
       "Intercept   9009.673286  428.752678  21.013684  0.000000\n",
       "Educ::12     616.145328  482.355444   1.277368  0.204871\n",
       "Educ::15    1381.481956  539.163816   2.562268  0.012120\n",
       "Educ::16    2088.366432  867.496047   2.407350  0.018182\n",
       "Sex::Male   1623.920564  343.766920   4.723900  0.000009"
      ]
     },
     "execution_count": 17,
     "metadata": {},
     "output_type": "execute_result"
    }
   ],
   "source": [
    "model.fit(data)"
   ]
  },
  {
   "cell_type": "code",
   "execution_count": 18,
   "metadata": {
    "collapsed": false
   },
   "outputs": [
    {
     "data": {
      "image/png": "[encoded data removed]",
      "text/plain": [
       "<matplotlib.figure.Figure at 0x2a5eafac860>"
      ]
     },
     "metadata": {},
     "output_type": "display_data"
    }
   ],
   "source": [
    "model.plot()"
   ]
  },
  {
   "cell_type": "markdown",
   "metadata": {},
   "source": [
    "## Multiple Linear Regression (Q's)\n",
    "$$\\widehat{Sal77} = \\beta_0 + \\beta_1 \\tt{Bsal} + \\beta_2 \\tt{Educ} + \\beta_3 \\tt{Exper}$$"
   ]
  },
  {
   "cell_type": "code",
   "execution_count": null,
   "metadata": {
    "collapsed": true
   },
   "outputs": [],
   "source": [
    "explanatory = Q(\"Bsal\") + C(\"Educ\") + Q(\"Exper\") # Explanatory Expression\n",
    "response = Q(\"Sal77\") # Response Expression\n",
    "model = LinearModel(explanatory, response)"
   ]
  },
  {
   "cell_type": "code",
   "execution_count": 20,
   "metadata": {
    "collapsed": false
   },
   "outputs": [
    {
     "data": {
      "text/html": [
       "<div>\n",
       "<table border=\"1\" class=\"dataframe\">\n",
       "  <thead>\n",
       "    <tr style=\"text-align: right;\">\n",
       "      <th></th>\n",
       "      <th>Coefficients</th>\n",
       "      <th>SE</th>\n",
       "      <th>t</th>\n",
       "      <th>p</th>\n",
       "    </tr>\n",
       "  </thead>\n",
       "  <tbody>\n",
       "    <tr>\n",
       "      <th>Intercept</th>\n",
       "      <td>5157.568620</td>\n",
       "      <td>1249.913008</td>\n",
       "      <td>4.126342</td>\n",
       "      <td>0.000085</td>\n",
       "    </tr>\n",
       "    <tr>\n",
       "      <th>Bsal</th>\n",
       "      <td>1.014223</td>\n",
       "      <td>0.238725</td>\n",
       "      <td>4.248499</td>\n",
       "      <td>0.000054</td>\n",
       "    </tr>\n",
       "    <tr>\n",
       "      <th>Educ::12</th>\n",
       "      <td>376.354262</td>\n",
       "      <td>462.451785</td>\n",
       "      <td>0.813824</td>\n",
       "      <td>0.417994</td>\n",
       "    </tr>\n",
       "    <tr>\n",
       "      <th>Educ::15</th>\n",
       "      <td>1033.875887</td>\n",
       "      <td>529.358035</td>\n",
       "      <td>1.953075</td>\n",
       "      <td>0.054062</td>\n",
       "    </tr>\n",
       "    <tr>\n",
       "      <th>Educ::16</th>\n",
       "      <td>1574.967855</td>\n",
       "      <td>845.563968</td>\n",
       "      <td>1.862624</td>\n",
       "      <td>0.065929</td>\n",
       "    </tr>\n",
       "    <tr>\n",
       "      <th>Exper</th>\n",
       "      <td>-8.310038</td>\n",
       "      <td>1.670144</td>\n",
       "      <td>-4.975641</td>\n",
       "      <td>0.000003</td>\n",
       "    </tr>\n",
       "  </tbody>\n",
       "</table>\n",
       "</div>"
      ],
      "text/plain": [
       "           Coefficients           SE         t         p\n",
       "Intercept   5157.568620  1249.913008  4.126342  0.000085\n",
       "Bsal           1.014223     0.238725  4.248499  0.000054\n",
       "Educ::12     376.354262   462.451785  0.813824  0.417994\n",
       "Educ::15    1033.875887   529.358035  1.953075  0.054062\n",
       "Educ::16    1574.967855   845.563968  1.862624  0.065929\n",
       "Exper         -8.310038     1.670144 -4.975641  0.000003"
      ]
     },
     "execution_count": 20,
     "metadata": {},
     "output_type": "execute_result"
    }
   ],
   "source": [
    "model.fit(data)"
   ]
  },
  {
   "cell_type": "code",
   "execution_count": 21,
   "metadata": {
    "collapsed": true
   },
   "outputs": [],
   "source": [
    "# Cannot plot a model that has more than 1 quantitative variables in the explanatory expresssion"
   ]
  },
  {
   "cell_type": "markdown",
   "metadata": {},
   "source": [
    "## Multiple Linear Regression w/ Interaction (Q & C)\n",
    "$$\\widehat{Sal77} = \\beta_0 + \\beta_1 \\tt{Bsal} + \\beta_2 \\tt{Educ} + \\gamma_{12} \\tt{Bsal*Educ}$$"
   ]
  },
  {
   "cell_type": "code",
   "execution_count": 25,
   "metadata": {
    "collapsed": true
   },
   "outputs": [],
   "source": [
    "explanatory = Q(\"Bsal\") + C(\"Educ\") + Q(\"Bsal\") * C(\"Educ\") # Explanatory Expression\n",
    "response = Q(\"Sal77\") # Response Expression\n",
    "model = LinearModel(explanatory, response)"
   ]
  },
  {
   "cell_type": "code",
   "execution_count": 26,
   "metadata": {
    "collapsed": false
   },
   "outputs": [
    {
     "data": {
      "text/html": [
       "<div>\n",
       "<table border=\"1\" class=\"dataframe\">\n",
       "  <thead>\n",
       "    <tr style=\"text-align: right;\">\n",
       "      <th></th>\n",
       "      <th>Coefficients</th>\n",
       "      <th>SE</th>\n",
       "      <th>t</th>\n",
       "      <th>p</th>\n",
       "    </tr>\n",
       "  </thead>\n",
       "  <tbody>\n",
       "    <tr>\n",
       "      <th>Intercept</th>\n",
       "      <td>16304.209784</td>\n",
       "      <td>4951.708257</td>\n",
       "      <td>3.292643</td>\n",
       "      <td>0.001453</td>\n",
       "    </tr>\n",
       "    <tr>\n",
       "      <th>Bsal</th>\n",
       "      <td>-1.414864</td>\n",
       "      <td>0.974561</td>\n",
       "      <td>-1.451796</td>\n",
       "      <td>0.150283</td>\n",
       "    </tr>\n",
       "    <tr>\n",
       "      <th>Educ::12</th>\n",
       "      <td>-10166.849090</td>\n",
       "      <td>5328.697972</td>\n",
       "      <td>-1.907942</td>\n",
       "      <td>0.059815</td>\n",
       "    </tr>\n",
       "    <tr>\n",
       "      <th>Educ::15</th>\n",
       "      <td>-10612.852822</td>\n",
       "      <td>5776.820324</td>\n",
       "      <td>-1.837144</td>\n",
       "      <td>0.069725</td>\n",
       "    </tr>\n",
       "    <tr>\n",
       "      <th>Educ::16</th>\n",
       "      <td>-12729.344919</td>\n",
       "      <td>6182.454363</td>\n",
       "      <td>-2.058947</td>\n",
       "      <td>0.042597</td>\n",
       "    </tr>\n",
       "    <tr>\n",
       "      <th>{Bsal}{Educ::12}</th>\n",
       "      <td>2.164561</td>\n",
       "      <td>1.042798</td>\n",
       "      <td>2.075724</td>\n",
       "      <td>0.040978</td>\n",
       "    </tr>\n",
       "    <tr>\n",
       "      <th>{Bsal}{Educ::15}</th>\n",
       "      <td>2.378138</td>\n",
       "      <td>1.099480</td>\n",
       "      <td>2.162967</td>\n",
       "      <td>0.033386</td>\n",
       "    </tr>\n",
       "    <tr>\n",
       "      <th>{Bsal}{Educ::16}</th>\n",
       "      <td>2.804053</td>\n",
       "      <td>1.146119</td>\n",
       "      <td>2.446562</td>\n",
       "      <td>0.016508</td>\n",
       "    </tr>\n",
       "  </tbody>\n",
       "</table>\n",
       "</div>"
      ],
      "text/plain": [
       "                  Coefficients           SE         t         p\n",
       "Intercept         16304.209784  4951.708257  3.292643  0.001453\n",
       "Bsal                 -1.414864     0.974561 -1.451796  0.150283\n",
       "Educ::12         -10166.849090  5328.697972 -1.907942  0.059815\n",
       "Educ::15         -10612.852822  5776.820324 -1.837144  0.069725\n",
       "Educ::16         -12729.344919  6182.454363 -2.058947  0.042597\n",
       "{Bsal}{Educ::12}      2.164561     1.042798  2.075724  0.040978\n",
       "{Bsal}{Educ::15}      2.378138     1.099480  2.162967  0.033386\n",
       "{Bsal}{Educ::16}      2.804053     1.146119  2.446562  0.016508"
      ]
     },
     "execution_count": 26,
     "metadata": {},
     "output_type": "execute_result"
    }
   ],
   "source": [
    "model.fit(data)"
   ]
  },
  {
   "cell_type": "code",
   "execution_count": 27,
   "metadata": {
    "collapsed": false
   },
   "outputs": [
    {
     "data": {
      "image/png": "[encoded data removed]",
      "text/plain": [
       "<matplotlib.figure.Figure at 0x2a5eaf41240>"
      ]
     },
     "metadata": {},
     "output_type": "display_data"
    }
   ],
   "source": [
    "model.plot()"
   ]
  },
  {
   "cell_type": "markdown",
   "metadata": {},
   "source": [
    "## Multiple Linear Regression w/ Interaction (Poly & C)\n",
    "$$\\widehat{Sal77} = \\beta_0 + \\beta_1 \\tt{Exper} + \\beta_2 \\tt{Exper}^2 + \\beta_3 \\tt{Exper}^3 + \\beta_4 \\tt{Educ} + \\gamma_{14} \\tt{Exper*Educ} + \\gamma_{24} \\tt{Exper^2*Educ} + \\gamma_{34} \\tt{Exper^3*Educ}$$"
   ]
  },
  {
   "cell_type": "code",
   "execution_count": 28,
   "metadata": {
    "collapsed": true
   },
   "outputs": [],
   "source": [
    "explanatory = Q(\"Exper\") + Q(\"Exper\") ** 2 + Q(\"Exper\") ** 3 + C(\"Educ\") + Q(\"Exper\") * C(\"Educ\") + Q(\"Exper\") ** 2 * C(\"Educ\") + Q(\"Exper\") ** 3 * C(\"Educ\") # Explanatory Expression\n",
    "# --or-- #\n",
    "explanatory = Poly(\"Exper\", 3) + C(\"Educ\") + Poly(\"Exper\", 3) * C(\"Educ\")\n",
    "response = Q(\"Sal77\") # Response Expression\n",
    "model = LinearModel(explanatory, response)"
   ]
  },
  {
   "cell_type": "code",
   "execution_count": 29,
   "metadata": {
    "collapsed": false
   },
   "outputs": [
    {
     "data": {
      "text/html": [
       "<div>\n",
       "<table border=\"1\" class=\"dataframe\">\n",
       "  <thead>\n",
       "    <tr style=\"text-align: right;\">\n",
       "      <th></th>\n",
       "      <th>Coefficients</th>\n",
       "      <th>SE</th>\n",
       "      <th>t</th>\n",
       "      <th>p</th>\n",
       "    </tr>\n",
       "  </thead>\n",
       "  <tbody>\n",
       "    <tr>\n",
       "      <th>Intercept</th>\n",
       "      <td>10322.790573</td>\n",
       "      <td>1252.679659</td>\n",
       "      <td>8.240567</td>\n",
       "      <td>3.810285e-12</td>\n",
       "    </tr>\n",
       "    <tr>\n",
       "      <th>Exper</th>\n",
       "      <td>-16.641738</td>\n",
       "      <td>36.406531</td>\n",
       "      <td>-0.457109</td>\n",
       "      <td>6.488969e-01</td>\n",
       "    </tr>\n",
       "    <tr>\n",
       "      <th>(Exper)^2</th>\n",
       "      <td>0.035787</td>\n",
       "      <td>0.280170</td>\n",
       "      <td>0.127733</td>\n",
       "      <td>8.986976e-01</td>\n",
       "    </tr>\n",
       "    <tr>\n",
       "      <th>(Exper)^3</th>\n",
       "      <td>0.000006</td>\n",
       "      <td>0.000574</td>\n",
       "      <td>0.011303</td>\n",
       "      <td>9.910117e-01</td>\n",
       "    </tr>\n",
       "    <tr>\n",
       "      <th>Educ::12</th>\n",
       "      <td>527.133238</td>\n",
       "      <td>1337.341710</td>\n",
       "      <td>0.394165</td>\n",
       "      <td>6.945631e-01</td>\n",
       "    </tr>\n",
       "    <tr>\n",
       "      <th>Educ::15</th>\n",
       "      <td>2769.044846</td>\n",
       "      <td>1665.846447</td>\n",
       "      <td>1.662245</td>\n",
       "      <td>1.005831e-01</td>\n",
       "    </tr>\n",
       "    <tr>\n",
       "      <th>Educ::16</th>\n",
       "      <td>5024.904104</td>\n",
       "      <td>26867.004352</td>\n",
       "      <td>0.187029</td>\n",
       "      <td>8.521364e-01</td>\n",
       "    </tr>\n",
       "    <tr>\n",
       "      <th>{Exper}{Educ::12}</th>\n",
       "      <td>2.414693</td>\n",
       "      <td>39.469656</td>\n",
       "      <td>0.061178</td>\n",
       "      <td>9.513777e-01</td>\n",
       "    </tr>\n",
       "    <tr>\n",
       "      <th>{Exper}{Educ::15}</th>\n",
       "      <td>-17.202257</td>\n",
       "      <td>47.106201</td>\n",
       "      <td>-0.365180</td>\n",
       "      <td>7.159911e-01</td>\n",
       "    </tr>\n",
       "    <tr>\n",
       "      <th>{Exper}{Educ::16}</th>\n",
       "      <td>24.043830</td>\n",
       "      <td>888.285242</td>\n",
       "      <td>0.027068</td>\n",
       "      <td>9.784767e-01</td>\n",
       "    </tr>\n",
       "    <tr>\n",
       "      <th>{(Exper)^2}{Educ::12}</th>\n",
       "      <td>0.015312</td>\n",
       "      <td>0.301708</td>\n",
       "      <td>0.050749</td>\n",
       "      <td>9.596583e-01</td>\n",
       "    </tr>\n",
       "    <tr>\n",
       "      <th>{(Exper)^2}{Educ::15}</th>\n",
       "      <td>0.102961</td>\n",
       "      <td>0.345923</td>\n",
       "      <td>0.297642</td>\n",
       "      <td>7.667889e-01</td>\n",
       "    </tr>\n",
       "    <tr>\n",
       "      <th>{(Exper)^2}{Educ::16}</th>\n",
       "      <td>-0.778426</td>\n",
       "      <td>8.024489</td>\n",
       "      <td>-0.097006</td>\n",
       "      <td>9.229768e-01</td>\n",
       "    </tr>\n",
       "    <tr>\n",
       "      <th>{(Exper)^3}{Educ::12}</th>\n",
       "      <td>-0.000079</td>\n",
       "      <td>0.000612</td>\n",
       "      <td>-0.129308</td>\n",
       "      <td>8.974554e-01</td>\n",
       "    </tr>\n",
       "    <tr>\n",
       "      <th>{(Exper)^3}{Educ::15}</th>\n",
       "      <td>-0.000210</td>\n",
       "      <td>0.000685</td>\n",
       "      <td>-0.306127</td>\n",
       "      <td>7.603451e-01</td>\n",
       "    </tr>\n",
       "    <tr>\n",
       "      <th>{(Exper)^3}{Educ::16}</th>\n",
       "      <td>0.002679</td>\n",
       "      <td>0.020862</td>\n",
       "      <td>0.128411</td>\n",
       "      <td>8.981632e-01</td>\n",
       "    </tr>\n",
       "  </tbody>\n",
       "</table>\n",
       "</div>"
      ],
      "text/plain": [
       "                       Coefficients            SE         t             p\n",
       "Intercept              10322.790573   1252.679659  8.240567  3.810285e-12\n",
       "Exper                    -16.641738     36.406531 -0.457109  6.488969e-01\n",
       "(Exper)^2                  0.035787      0.280170  0.127733  8.986976e-01\n",
       "(Exper)^3                  0.000006      0.000574  0.011303  9.910117e-01\n",
       "Educ::12                 527.133238   1337.341710  0.394165  6.945631e-01\n",
       "Educ::15                2769.044846   1665.846447  1.662245  1.005831e-01\n",
       "Educ::16                5024.904104  26867.004352  0.187029  8.521364e-01\n",
       "{Exper}{Educ::12}          2.414693     39.469656  0.061178  9.513777e-01\n",
       "{Exper}{Educ::15}        -17.202257     47.106201 -0.365180  7.159911e-01\n",
       "{Exper}{Educ::16}         24.043830    888.285242  0.027068  9.784767e-01\n",
       "{(Exper)^2}{Educ::12}      0.015312      0.301708  0.050749  9.596583e-01\n",
       "{(Exper)^2}{Educ::15}      0.102961      0.345923  0.297642  7.667889e-01\n",
       "{(Exper)^2}{Educ::16}     -0.778426      8.024489 -0.097006  9.229768e-01\n",
       "{(Exper)^3}{Educ::12}     -0.000079      0.000612 -0.129308  8.974554e-01\n",
       "{(Exper)^3}{Educ::15}     -0.000210      0.000685 -0.306127  7.603451e-01\n",
       "{(Exper)^3}{Educ::16}      0.002679      0.020862  0.128411  8.981632e-01"
      ]
     },
     "execution_count": 29,
     "metadata": {},
     "output_type": "execute_result"
    }
   ],
   "source": [
    "model.fit(data)"
   ]
  },
  {
   "cell_type": "code",
   "execution_count": 30,
   "metadata": {
    "collapsed": false
   },
   "outputs": [
    {
     "data": {
      "image/png": "[encoded data removed]",
      "text/plain": [
       "<matplotlib.figure.Figure at 0x2a5eb54da90>"
      ]
     },
     "metadata": {},
     "output_type": "display_data"
    }
   ],
   "source": [
    "model.plot()"
   ]
  },
  {
   "cell_type": "markdown",
   "metadata": {},
   "source": [
    "# Other Features\n",
    "\n",
    "For the following features, we will be using the $\\widehat{Sal77} = \\beta_0 + \\beta_1 \\tt{Bsal} + \\beta_2 \\tt{Sex} + \\gamma_{12} \\tt{Bsal*Sex}$ model as an example."
   ]
  },
  {
   "cell_type": "code",
   "execution_count": 31,
   "metadata": {
    "collapsed": false
   },
   "outputs": [
    {
     "data": {
      "text/html": [
       "<div>\n",
       "<table border=\"1\" class=\"dataframe\">\n",
       "  <thead>\n",
       "    <tr style=\"text-align: right;\">\n",
       "      <th></th>\n",
       "      <th>Coefficients</th>\n",
       "      <th>SE</th>\n",
       "      <th>t</th>\n",
       "      <th>p</th>\n",
       "    </tr>\n",
       "  </thead>\n",
       "  <tbody>\n",
       "    <tr>\n",
       "      <th>Intercept</th>\n",
       "      <td>8885.645355</td>\n",
       "      <td>1948.159772</td>\n",
       "      <td>4.561045</td>\n",
       "      <td>0.000016</td>\n",
       "    </tr>\n",
       "    <tr>\n",
       "      <th>Bsal</th>\n",
       "      <td>0.160806</td>\n",
       "      <td>0.375829</td>\n",
       "      <td>0.427869</td>\n",
       "      <td>0.669792</td>\n",
       "    </tr>\n",
       "    <tr>\n",
       "      <th>Sex::Male</th>\n",
       "      <td>-2502.063576</td>\n",
       "      <td>3059.685473</td>\n",
       "      <td>-0.817752</td>\n",
       "      <td>0.415708</td>\n",
       "    </tr>\n",
       "    <tr>\n",
       "      <th>{Bsal}{Sex::Male}</th>\n",
       "      <td>0.728531</td>\n",
       "      <td>0.544149</td>\n",
       "      <td>1.338845</td>\n",
       "      <td>0.184069</td>\n",
       "    </tr>\n",
       "  </tbody>\n",
       "</table>\n",
       "</div>"
      ],
      "text/plain": [
       "                   Coefficients           SE         t         p\n",
       "Intercept           8885.645355  1948.159772  4.561045  0.000016\n",
       "Bsal                   0.160806     0.375829  0.427869  0.669792\n",
       "Sex::Male          -2502.063576  3059.685473 -0.817752  0.415708\n",
       "{Bsal}{Sex::Male}      0.728531     0.544149  1.338845  0.184069"
      ]
     },
     "execution_count": 31,
     "metadata": {},
     "output_type": "execute_result"
    }
   ],
   "source": [
    "explanatory = Q(\"Bsal\") + C(\"Sex\") + Q(\"Bsal\") * C(\"Sex\") # Explanatory Expression\n",
    "response = Q(\"Sal77\") # Response Expression\n",
    "model = LinearModel(explanatory, response)\n",
    "model.fit(data)"
   ]
  },
  {
   "cell_type": "markdown",
   "metadata": {},
   "source": [
    "## Predicting"
   ]
  },
  {
   "cell_type": "code",
   "execution_count": 32,
   "metadata": {
    "collapsed": false
   },
   "outputs": [
    {
     "data": {
      "text/html": [
       "<div>\n",
       "<table border=\"1\" class=\"dataframe\">\n",
       "  <thead>\n",
       "    <tr style=\"text-align: right;\">\n",
       "      <th></th>\n",
       "      <th>Predicted Sal77</th>\n",
       "    </tr>\n",
       "  </thead>\n",
       "  <tbody>\n",
       "    <tr>\n",
       "      <th>0</th>\n",
       "      <td>10865.839311</td>\n",
       "    </tr>\n",
       "    <tr>\n",
       "      <th>1</th>\n",
       "      <td>11986.403694</td>\n",
       "    </tr>\n",
       "    <tr>\n",
       "      <th>2</th>\n",
       "      <td>11719.602650</td>\n",
       "    </tr>\n",
       "    <tr>\n",
       "      <th>3</th>\n",
       "      <td>11719.602650</td>\n",
       "    </tr>\n",
       "    <tr>\n",
       "      <th>4</th>\n",
       "      <td>11719.602650</td>\n",
       "    </tr>\n",
       "  </tbody>\n",
       "</table>\n",
       "</div>"
      ],
      "text/plain": [
       "   Predicted Sal77\n",
       "0     10865.839311\n",
       "1     11986.403694\n",
       "2     11719.602650\n",
       "3     11719.602650\n",
       "4     11719.602650"
      ]
     },
     "execution_count": 32,
     "metadata": {},
     "output_type": "execute_result"
    }
   ],
   "source": [
    "yhat = model.predict(data)\n",
    "yhat.head(5)"
   ]
  },
  {
   "cell_type": "markdown",
   "metadata": {},
   "source": [
    "## Residual Plots"
   ]
  },
  {
   "cell_type": "code",
   "execution_count": 33,
   "metadata": {
    "collapsed": false,
    "scrolled": true
   },
   "outputs": [
    {
     "data": {
      "image/png": "[encoded data removed]",
      "text/plain": [
       "<matplotlib.figure.Figure at 0x2a5eba81438>"
      ]
     },
     "metadata": {},
     "output_type": "display_data"
    },
    {
     "data": {
      "image/png": "[encoded data removed]",
      "text/plain": [
       "<matplotlib.figure.Figure at 0x2a5ebb3def0>"
      ]
     },
     "metadata": {},
     "output_type": "display_data"
    },
    {
     "data": {
      "image/png": "[encoded data removed]",
      "text/plain": [
       "<matplotlib.figure.Figure at 0x2a5ebb9d8d0>"
      ]
     },
     "metadata": {},
     "output_type": "display_data"
    },
    {
     "data": {
      "image/png": "[encoded data removed]",
      "text/plain": [
       "<matplotlib.figure.Figure at 0x2a5eb5a25f8>"
      ]
     },
     "metadata": {},
     "output_type": "display_data"
    },
    {
     "data": {
      "text/plain": [
       "[<matplotlib.collections.PathCollection at 0x2a5ebb0de80>,\n",
       " <matplotlib.collections.PathCollection at 0x2a5ebb7beb8>,\n",
       " <matplotlib.collections.PathCollection at 0x2a5ebaa0b70>,\n",
       " <matplotlib.collections.PathCollection at 0x2a5eb5899e8>]"
      ]
     },
     "execution_count": 33,
     "metadata": {},
     "output_type": "execute_result"
    }
   ],
   "source": [
    "model.residual_plots()"
   ]
  },
  {
   "cell_type": "markdown",
   "metadata": {},
   "source": [
    "## Leverage Plots"
   ]
  },
  {
   "cell_type": "code",
   "execution_count": 34,
   "metadata": {
    "collapsed": false,
    "scrolled": true
   },
   "outputs": [
    {
     "data": {
      "image/png": "[encoded data removed]",
      "text/plain": [
       "<matplotlib.figure.Figure at 0x2a5eb58ef60>"
      ]
     },
     "metadata": {},
     "output_type": "display_data"
    },
    {
     "data": {
      "image/png": "[encoded data removed]",
      "text/plain": [
       "<matplotlib.figure.Figure at 0x2a5eafe4be0>"
      ]
     },
     "metadata": {},
     "output_type": "display_data"
    },
    {
     "data": {
      "image/png": "[encoded data removed]",
      "text/plain": [
       "<matplotlib.figure.Figure at 0x2a5eaf0fef0>"
      ]
     },
     "metadata": {},
     "output_type": "display_data"
    }
   ],
   "source": [
    "model.partial_plots()"
   ]
  },
  {
   "cell_type": "markdown",
   "metadata": {},
   "source": [
    "# Expression Details\n",
    "\n",
    "A model is defined by a quatitative or categorical variables existing either stand alone, within interactions, within linear combinations, or a mix of the latter two.\n",
    "\n",
    "### Variable Types\n",
    "\n",
    "A variable in this package represts the variables you would commonly see in a definition of a regression model like so:\n",
    "$$f(\\tt{Var}) = \\beta_0 + \\beta_1 \\tt{Var_1} + \\beta_2 \\tt{Var_2} + \\beta_3 \\tt{Var_2}^2 + \\gamma_{12} \\tt{Var_1}*{Var_2} + \\gamma_{13} \\tt{Var_1} * {Var_2}^2$$\n",
    "where $\\tt{Var_i}$ represents either a quantitative or categorical variable. \n",
    "\n",
    "Salmon represents these symbolically. When defining the variables, there are three options to pick from:"
   ]
  },
  {
   "cell_type": "code",
   "execution_count": 35,
   "metadata": {
    "collapsed": true
   },
   "outputs": [],
   "source": [
    "# Variables known to be quantitative.\n",
    "quant_var = Q(\"Bsal\")\n",
    "# Variables known to be categorical.\n",
    "cat_var = C(\"Sex\")\n",
    "# Variables of unknown type. These will be interpreted when fitting as either categorical or quantitative.\n",
    "interp_var = Var(\"Educ\")"
   ]
  },
  {
   "cell_type": "markdown",
   "metadata": {},
   "source": [
    "The string passed into the variables are the column names to extract from a pandas `DataFrame` when fitting on a set of data. So for instance, if we defined a model with `Q(\"Bsal\")` then the model would extract the `Bsal` column to work with from the data passed in.\n",
    "\n",
    "#### Quantitative Variables\n",
    "Common transformations of quantitative variables are also supported. For example:"
   ]
  },
  {
   "cell_type": "code",
   "execution_count": 36,
   "metadata": {
    "collapsed": true
   },
   "outputs": [],
   "source": [
    "bsal_squared = Q(\"Bsal\") ** 2\n",
    "bsal_shifted = Q(\"Bsal\") + 150\n",
    "bsal_logged = Log(Q(\"Bsal\"))"
   ]
  },
  {
   "cell_type": "markdown",
   "metadata": {},
   "source": [
    "#### Categorical Variables\n",
    "\n",
    "When defining categorical variables it is possible to set ahead of time the possible levels/factors to fit with, as well as the encoding method for use. For instance, if we wanted to treat the `Educ` column in our example dataset as a categorical variable, and we knew the possible levels of education were either 8, 10, 12, 15, or 16, then we could define our variable as follows:"
   ]
  },
  {
   "cell_type": "code",
   "execution_count": 37,
   "metadata": {
    "collapsed": true
   },
   "outputs": [],
   "source": [
    "educ_var_v1 = C(\"Educ\", method = 'one-hot', levels = [8, 10, 12, 15, 16])\n",
    "educ_var_v2 = C(\"Educ\", method = 'one-hot', levels = [8, 10, 12])"
   ]
  },
  {
   "cell_type": "markdown",
   "metadata": {},
   "source": [
    "The first variable defined set the order of the levels to interpreted as. This would matter with encoding methods such as ordinal encoding (note: currently not supported, only one-hot encoding is supported at this time). In our case with the one-hot encoding method used, our ordering designated the '8' level to be dropped to avoid multi-colinearity.\n",
    "\n",
    "The second variable defined still designated the '8' level to be dropped; however, it also designates that any levels found in the data that are not either '8', '10', or '12' will be binned into an 'other' category.\n",
    "\n",
    "By default, categorical variables will use a one-hot encoding method and will dynamically extract the possible levels of a variable upon fitting. The levels will be ordered by sorting and the smallest (according to Python's `sorted` function) level will be dropped. \n",
    "\n",
    "## Combinations\n",
    "\n",
    "Many regression applications require multiple variables within the model. This is achieved in salmon by simply adding together several variables. For instance, suppose we wanted to represent:\n",
    "$$\\tt{Sex} + \\tt{Bsal} + \\tt{Bsal}^2$$\n",
    "This would be achieved like so:"
   ]
  },
  {
   "cell_type": "code",
   "execution_count": 38,
   "metadata": {
    "collapsed": true
   },
   "outputs": [],
   "source": [
    "combo = C(\"Sex\") + Q(\"Bsal\") + Q(\"Bsal\") ** 2"
   ]
  },
  {
   "cell_type": "markdown",
   "metadata": {},
   "source": [
    "Should you want to define an full polynomial sequence you can use the following command as well:"
   ]
  },
  {
   "cell_type": "code",
   "execution_count": 39,
   "metadata": {
    "collapsed": true
   },
   "outputs": [],
   "source": [
    "combo = C(\"Sex\") + Poly(\"Bsal\", 4) # Expands to 'Sex + Bsal + Bsal^2 + Bsal^3 + Bsal^4'"
   ]
  },
  {
   "cell_type": "markdown",
   "metadata": {},
   "source": [
    "## Interactions\n",
    "\n",
    "It is common to want to model interaction effects between variables. Salmon supports this symbolically using the `*` operator. Any combination of variable type is supported.\n",
    "\n",
    "For example, let's model this interaction:\n",
    "$$\\tt{Sex * Bsal}$$"
   ]
  },
  {
   "cell_type": "code",
   "execution_count": 40,
   "metadata": {
    "collapsed": true
   },
   "outputs": [],
   "source": [
    "interaction = C(\"Sex\") * Q(\"Bsal\")"
   ]
  },
  {
   "cell_type": "markdown",
   "metadata": {},
   "source": [
    "Here is how we would model a more complicated linear combination of variables and interactions like $$\\tt{Sex} + \\tt{Bsal} + \\tt{Bsal}^2 + \\tt{Sex * Bsal} + \\tt{Sex}*{Bsal}^2$$\n"
   ]
  },
  {
   "cell_type": "code",
   "execution_count": 41,
   "metadata": {
    "collapsed": true
   },
   "outputs": [],
   "source": [
    "complicated_combo = C(\"Sex\") + Q(\"Bsal\") + Q(\"Bsal\")**2 + C(\"Sex\")*Q(\"Bsal\") + C(\"Sex\")*Q(\"Bsal\")**2"
   ]
  },
  {
   "cell_type": "markdown",
   "metadata": {},
   "source": [
    "Salmon also supports distribution of singular terms into combinations. The above expression could be represented more succinctly as such:"
   ]
  },
  {
   "cell_type": "code",
   "execution_count": 42,
   "metadata": {
    "collapsed": true
   },
   "outputs": [],
   "source": [
    "# Equivalent to C(\"Sex\") + Q(\"Bsal\") + Q(\"Bsal\")**2 + (Q(\"Bsal\") + Q(\"Bsal\")**2) * C(\"Sex\") \n",
    "complicated_combo = C(\"Sex\") + Poly(\"Bsal\", 2) + Poly(\"Bsal\", 2) * C(\"Sex\")"
   ]
  },
  {
   "cell_type": "markdown",
   "metadata": {},
   "source": [
    "## Representing the Model\n",
    "\n",
    "Now that we understand how to form expressions of variables, we can now represent our models. `LinearModels` are always defined of the form:\n",
    "\n",
    "`model = LinearModel(explanatory_expression, response_expression)`\n",
    "\n",
    "The `explanatory_expression` is allowed to be a single term, an interaction, or a combination of the other two. The `response_expression` is allowed to be either a single term or an interaction. Categorical variables are allowed within the `response_expression` so long after encoding the resultant expansion is represented by only one column."
   ]
  },
  {
   "cell_type": "code",
   "execution_count": null,
   "metadata": {
    "collapsed": true
   },
   "outputs": [],
   "source": []
  }
 ],
 "metadata": {
  "anaconda-cloud": {},
  "kernelspec": {
   "display_name": "Python [Root]",
   "language": "python",
   "name": "Python [Root]"
  },
  "language_info": {
   "codemirror_mode": {
    "name": "ipython",
    "version": 3
   },
   "file_extension": ".py",
   "mimetype": "text/x-python",
   "name": "python",
   "nbconvert_exporter": "python",
   "pygments_lexer": "ipython3",
   "version": "3.5.2"
  }
 },
 "nbformat": 4,
 "nbformat_minor": 2
}
