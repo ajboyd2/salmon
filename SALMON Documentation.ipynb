{
 "cells": [
  {
   "cell_type": "markdown",
   "metadata": {},
   "source": [
    "# _SALMON_\n",
    "\n",
    "Salmon is a package for symbolic algebra of linear regression and modeling. The goal for this package is to ease the process of model building for linear regression by separating the model (with all its interactions and variables) from the data being used to fit it. \n",
    "\n",
    "For the purpose of this documentation we will be using the Harris Bank dataset for our examples."
   ]
  },
  {
   "cell_type": "code",
   "execution_count": 1,
   "metadata": {
    "collapsed": false
   },
   "outputs": [
    {
     "data": {
      "text/html": [
       "<div>\n",
       "<table border=\"1\" class=\"dataframe\">\n",
       "  <thead>\n",
       "    <tr style=\"text-align: right;\">\n",
       "      <th></th>\n",
       "      <th>Bsal</th>\n",
       "      <th>Sal77</th>\n",
       "      <th>Sex</th>\n",
       "      <th>Senior</th>\n",
       "      <th>Age</th>\n",
       "      <th>Educ</th>\n",
       "      <th>Exper</th>\n",
       "    </tr>\n",
       "  </thead>\n",
       "  <tbody>\n",
       "    <tr>\n",
       "      <th>0</th>\n",
       "      <td>5040</td>\n",
       "      <td>12420</td>\n",
       "      <td>Male</td>\n",
       "      <td>96</td>\n",
       "      <td>329</td>\n",
       "      <td>15</td>\n",
       "      <td>14.0</td>\n",
       "    </tr>\n",
       "    <tr>\n",
       "      <th>1</th>\n",
       "      <td>6300</td>\n",
       "      <td>12060</td>\n",
       "      <td>Male</td>\n",
       "      <td>82</td>\n",
       "      <td>357</td>\n",
       "      <td>15</td>\n",
       "      <td>72.0</td>\n",
       "    </tr>\n",
       "    <tr>\n",
       "      <th>2</th>\n",
       "      <td>6000</td>\n",
       "      <td>15120</td>\n",
       "      <td>Male</td>\n",
       "      <td>67</td>\n",
       "      <td>315</td>\n",
       "      <td>15</td>\n",
       "      <td>35.5</td>\n",
       "    </tr>\n",
       "  </tbody>\n",
       "</table>\n",
       "</div>"
      ],
      "text/plain": [
       "   Bsal  Sal77   Sex  Senior  Age  Educ  Exper\n",
       "0  5040  12420  Male      96  329    15   14.0\n",
       "1  6300  12060  Male      82  357    15   72.0\n",
       "2  6000  15120  Male      67  315    15   35.5"
      ]
     },
     "execution_count": 1,
     "metadata": {},
     "output_type": "execute_result"
    }
   ],
   "source": [
    "import pandas as pd\n",
    "from salmon import *\n",
    "%matplotlib inline\n",
    "data = pd.read_csv(\"https://raw.githubusercontent.com/ajboyd2/salmon/master/harris.csv?token=ALLqgTETWQA0oazyRLEKrqqv5a7H9aO5ks5ZQNpNwA%3D%3D\")\n",
    "data.head(3)"
   ]
  },
  {
   "cell_type": "markdown",
   "metadata": {},
   "source": [
    "# Modeling Use Cases\n",
    "\n",
    "Let's analyze a few use cases where we would utilize _salmon_ to model linear regression with this dataset. The format of this section will present information in the following format:\n",
    "\n",
    "1. Present the formal model definition for a use case scenario\n",
    "2. Represent the model using _salmon_\n",
    "3. Fit the model and present the coefficients alongside statistics\n",
    "4. Visualize the model if applicable"
   ]
  },
  {
   "cell_type": "markdown",
   "metadata": {},
   "source": [
    "## Simple Linear Regression (Q)\n",
    "$$\\widehat{Sal77}(Bsal) = \\beta_0 + \\beta_1 \\tt{Bsal}$$"
   ]
  },
  {
   "cell_type": "code",
   "execution_count": 2,
   "metadata": {
    "collapsed": true
   },
   "outputs": [],
   "source": [
    "explanatory = Q(\"Bsal\") # Explanatory Expression\n",
    "response = Q(\"Sal77\") # Response Expression\n",
    "model = LinearModel(explanatory, response)"
   ]
  },
  {
   "cell_type": "markdown",
   "metadata": {},
   "source": [
    "Note how we did not have to specify an intercept for our explanatory expression. Should we not want an intercept, we add the `intercept = False` parameter to our model."
   ]
  },
  {
   "cell_type": "code",
   "execution_count": 3,
   "metadata": {
    "collapsed": false
   },
   "outputs": [
    {
     "data": {
      "text/html": [
       "<div>\n",
       "<table border=\"1\" class=\"dataframe\">\n",
       "  <thead>\n",
       "    <tr style=\"text-align: right;\">\n",
       "      <th></th>\n",
       "      <th>Coefficients</th>\n",
       "      <th>SE</th>\n",
       "      <th>t</th>\n",
       "      <th>p</th>\n",
       "    </tr>\n",
       "  </thead>\n",
       "  <tbody>\n",
       "    <tr>\n",
       "      <th>Intercept</th>\n",
       "      <td>4445.781845</td>\n",
       "      <td>1347.060082</td>\n",
       "      <td>3.300359</td>\n",
       "      <td>0.001385</td>\n",
       "    </tr>\n",
       "    <tr>\n",
       "      <th>Bsal</th>\n",
       "      <td>1.095223</td>\n",
       "      <td>0.245827</td>\n",
       "      <td>4.455251</td>\n",
       "      <td>0.000024</td>\n",
       "    </tr>\n",
       "  </tbody>\n",
       "</table>\n",
       "</div>"
      ],
      "text/plain": [
       "           Coefficients           SE         t         p\n",
       "Intercept   4445.781845  1347.060082  3.300359  0.001385\n",
       "Bsal           1.095223     0.245827  4.455251  0.000024"
      ]
     },
     "execution_count": 3,
     "metadata": {},
     "output_type": "execute_result"
    }
   ],
   "source": [
    "model.fit(data)"
   ]
  },
  {
   "cell_type": "markdown",
   "metadata": {},
   "source": [
    "Also note how we didn't have to only give a data frame that consisted solely of the explanatory variables. We also didn't have to give separate data for the response. Any variables needed for the model will be extracted during fitting from `data`. Any extra columns will be ignored."
   ]
  },
  {
   "cell_type": "code",
   "execution_count": 4,
   "metadata": {
    "collapsed": false
   },
   "outputs": [
    {
     "data": {
      "image/png": "[encoded data removed]",
      "text/plain": [
       "<matplotlib.figure.Figure at 0x2a5ea859c50>"
      ]
     },
     "metadata": {},
     "output_type": "display_data"
    }
   ],
   "source": [
    "model.plot()"
   ]
  },
  {
   "cell_type": "markdown",
   "metadata": {},
   "source": [
    "## Simple Linear Regression (C)\n",
    "$$\\widehat{Sal77}(Educ) = \\beta_0 + \\beta_1 \\tt{Educ}$$"
   ]
  },
  {
   "cell_type": "code",
   "execution_count": 5,
   "metadata": {
    "collapsed": true
   },
   "outputs": [],
   "source": [
    "explanatory = C(\"Educ\") # Explanatory Expression\n",
    "response = Q(\"Sal77\") # Response Expression\n",
    "model = LinearModel(explanatory, response)"
   ]
  },
  {
   "cell_type": "code",
   "execution_count": 6,
   "metadata": {
    "collapsed": false
   },
   "outputs": [
    {
     "data": {
      "text/html": [
       "<div>\n",
       "<table border=\"1\" class=\"dataframe\">\n",
       "  <thead>\n",
       "    <tr style=\"text-align: right;\">\n",
       "      <th></th>\n",
       "      <th>Coefficients</th>\n",
       "      <th>SE</th>\n",
       "      <th>t</th>\n",
       "      <th>p</th>\n",
       "    </tr>\n",
       "  </thead>\n",
       "  <tbody>\n",
       "    <tr>\n",
       "      <th>Intercept</th>\n",
       "      <td>9145.000000</td>\n",
       "      <td>476.797832</td>\n",
       "      <td>19.180037</td>\n",
       "      <td>0.000000</td>\n",
       "    </tr>\n",
       "    <tr>\n",
       "      <th>Educ::12</th>\n",
       "      <td>944.795918</td>\n",
       "      <td>531.987159</td>\n",
       "      <td>1.775975</td>\n",
       "      <td>0.079194</td>\n",
       "    </tr>\n",
       "    <tr>\n",
       "      <th>Educ::15</th>\n",
       "      <td>2148.333333</td>\n",
       "      <td>573.039677</td>\n",
       "      <td>3.749013</td>\n",
       "      <td>0.000317</td>\n",
       "    </tr>\n",
       "    <tr>\n",
       "      <th>Educ::16</th>\n",
       "      <td>2765.000000</td>\n",
       "      <td>953.595663</td>\n",
       "      <td>2.899552</td>\n",
       "      <td>0.004718</td>\n",
       "    </tr>\n",
       "  </tbody>\n",
       "</table>\n",
       "</div>"
      ],
      "text/plain": [
       "           Coefficients          SE          t         p\n",
       "Intercept   9145.000000  476.797832  19.180037  0.000000\n",
       "Educ::12     944.795918  531.987159   1.775975  0.079194\n",
       "Educ::15    2148.333333  573.039677   3.749013  0.000317\n",
       "Educ::16    2765.000000  953.595663   2.899552  0.004718"
      ]
     },
     "execution_count": 6,
     "metadata": {},
     "output_type": "execute_result"
    }
   ],
   "source": [
    "model.fit(data)"
   ]
  },
  {
   "cell_type": "code",
   "execution_count": 8,
   "metadata": {
    "collapsed": false
   },
   "outputs": [
    {
     "data": {
      "image/png": "[encoded data removed]",
      "text/plain": [
       "<matplotlib.figure.Figure at 0x2a5eaf4da20>"
      ]
     },
     "metadata": {},
     "output_type": "display_data"
    }
   ],
   "source": [
    "model.plot()"
   ]
  },
  {
   "cell_type": "code",
   "execution_count": null,
   "metadata": {
    "collapsed": true
   },
   "outputs": [],
   "source": []
  },
  {
   "cell_type": "markdown",
   "metadata": {},
   "source": [
    "## Polynomial Regression\n",
    "$$\\widehat{Sal77}(Exper) = \\beta_0 + \\beta_1 \\tt{Exper} + \\beta_2 \\tt{Exper}^2 + \\beta_3 \\tt{Exper}^3$$"
   ]
  },
  {
   "cell_type": "code",
   "execution_count": null,
   "metadata": {
    "collapsed": true
   },
   "outputs": [],
   "source": [
    "explanatory = Q(\"Exper\") + Q(\"Exper\") ** 2 + Q(\"Exper\") ** 3 # Explanatory Expression\n",
    "# --or-- #\n",
    "explantory = Poly(\"Exper\", 3)\n",
    "response = Q(\"Sal77\") # Response Expression\n",
    "model = LinearModel(explanatory, response)"
   ]
  },
  {
   "cell_type": "code",
   "execution_count": null,
   "metadata": {
    "collapsed": false
   },
   "outputs": [],
   "source": [
    "model.fit(data)"
   ]
  },
  {
   "cell_type": "code",
   "execution_count": null,
   "metadata": {
    "collapsed": false
   },
   "outputs": [],
   "source": [
    "model.plot()"
   ]
  },
  {
   "cell_type": "markdown",
   "metadata": {},
   "source": [
    "## Multiple Linear Regression (Q + C)\n",
    "$$\\widehat{Sal77}(Bsal, Educ) = \\beta_0 + \\beta_1 \\tt{Bsal} + \\beta_2 \\tt{Bsal}^2 + \\beta_3 \\tt{Educ}$$"
   ]
  },
  {
   "cell_type": "code",
   "execution_count": null,
   "metadata": {
    "collapsed": true
   },
   "outputs": [],
   "source": [
    "explanatory = Q(\"Bsal\") + Q(\"Bsal\") ** 2 + C(\"Educ\") # Explanatory Expression\n",
    "response = Q(\"Sal77\") # Response Expression\n",
    "model = LinearModel(explanatory, response)"
   ]
  },
  {
   "cell_type": "code",
   "execution_count": null,
   "metadata": {
    "collapsed": false
   },
   "outputs": [],
   "source": [
    "model.fit(data)"
   ]
  },
  {
   "cell_type": "code",
   "execution_count": null,
   "metadata": {
    "collapsed": false
   },
   "outputs": [],
   "source": [
    "model.plot()"
   ]
  },
  {
   "cell_type": "markdown",
   "metadata": {},
   "source": [
    "## Multiple Linear Regression (C's)\n",
    "$$\\widehat{Sal77}(Educ, Sex) = \\beta_0 + \\beta_1 \\tt{Educ} + \\beta_2 \\tt{Sex}$$"
   ]
  },
  {
   "cell_type": "code",
   "execution_count": null,
   "metadata": {
    "collapsed": true
   },
   "outputs": [],
   "source": [
    "explanatory = C(\"Educ\") + C(\"Sex\") # Explanatory Expression\n",
    "response = Q(\"Sal77\") # Response Expression\n",
    "model = LinearModel(explanatory, response)"
   ]
  },
  {
   "cell_type": "code",
   "execution_count": null,
   "metadata": {
    "collapsed": false
   },
   "outputs": [],
   "source": [
    "model.fit(data)"
   ]
  },
  {
   "cell_type": "code",
   "execution_count": null,
   "metadata": {
    "collapsed": false
   },
   "outputs": [],
   "source": [
    "points, indices, line_x = model.plot()"
   ]
  },
  {
   "cell_type": "code",
   "execution_count": null,
   "metadata": {
    "collapsed": false
   },
   "outputs": [],
   "source": [
    "pd.concat([model.training_data, model.training_y, data], axis = 1)"
   ]
  },
  {
   "cell_type": "code",
   "execution_count": null,
   "metadata": {
    "collapsed": false
   },
   "outputs": [],
   "source": [
    "model.training_y"
   ]
  },
  {
   "cell_type": "code",
   "execution_count": null,
   "metadata": {
    "collapsed": false
   },
   "outputs": [],
   "source": [
    "line_x"
   ]
  },
  {
   "cell_type": "code",
   "execution_count": null,
   "metadata": {
    "collapsed": false
   },
   "outputs": [],
   "source": [
    "points.loc[indices, :]"
   ]
  },
  {
   "cell_type": "code",
   "execution_count": null,
   "metadata": {
    "collapsed": true
   },
   "outputs": [],
   "source": []
  },
  {
   "cell_type": "markdown",
   "metadata": {},
   "source": [
    "## Multiple Linear Regression (Q's)\n",
    "$$\\widehat{Sal77}(Bsal, Educ, Exper) = \\beta_0 + \\beta_1 \\tt{Bsal} + \\beta_2 \\tt{Educ} + \\beta_3 \\tt{Exper}$$"
   ]
  },
  {
   "cell_type": "code",
   "execution_count": null,
   "metadata": {
    "collapsed": true
   },
   "outputs": [],
   "source": [
    "explanatory = Q(\"Bsal\") + C(\"Educ\") + Q(\"Exper\") # Explanatory Expression\n",
    "response = Q(\"Sal77\") # Response Expression\n",
    "model = LinearModel(explanatory, response)"
   ]
  },
  {
   "cell_type": "code",
   "execution_count": null,
   "metadata": {
    "collapsed": false
   },
   "outputs": [],
   "source": [
    "model.fit(data)"
   ]
  },
  {
   "cell_type": "code",
   "execution_count": null,
   "metadata": {
    "collapsed": true
   },
   "outputs": [],
   "source": [
    "# Cannot plot a model that has more than 1 quantitative variables in the explanatory expresssion"
   ]
  },
  {
   "cell_type": "markdown",
   "metadata": {},
   "source": [
    "## Multiple Linear Regression w/ Interaction (C's)\n",
    "$$\\widehat{Sal77}(Sex, Educ) = \\beta_0 + \\beta_1 \\tt{Sex} + \\beta_2 \\tt{Educ} + \\gamma_{12} \\tt{Sex*Educ}$$"
   ]
  },
  {
   "cell_type": "code",
   "execution_count": null,
   "metadata": {
    "collapsed": true
   },
   "outputs": [],
   "source": [
    "explanatory = C(\"Sex\") + C(\"Educ\") + C(\"Sex\") * C(\"Educ\") # Explanatory Expression\n",
    "response = Q(\"Sal77\") # Response Expression\n",
    "model = LinearModel(explanatory, response)"
   ]
  },
  {
   "cell_type": "code",
   "execution_count": null,
   "metadata": {
    "collapsed": false
   },
   "outputs": [],
   "source": [
    "model.fit(data)"
   ]
  },
  {
   "cell_type": "code",
   "execution_count": null,
   "metadata": {
    "collapsed": false
   },
   "outputs": [],
   "source": [
    "model.plot()"
   ]
  },
  {
   "cell_type": "markdown",
   "metadata": {},
   "source": [
    "## Multiple Linear Regression w/ Interaction (Q & C)\n",
    "$$\\widehat{Sal77}(Bsal, Educ) = \\beta_0 + \\beta_1 \\tt{Bsal} + \\beta_2 \\tt{Educ} + \\gamma_{12} \\tt{Bsal*Educ}$$"
   ]
  },
  {
   "cell_type": "code",
   "execution_count": null,
   "metadata": {
    "collapsed": true
   },
   "outputs": [],
   "source": [
    "explanatory = Q(\"Bsal\") + C(\"Educ\") + Q(\"Bsal\") * C(\"Educ\") # Explanatory Expression\n",
    "response = Q(\"Sal77\") # Response Expression\n",
    "model = LinearModel(explanatory, response)"
   ]
  },
  {
   "cell_type": "code",
   "execution_count": null,
   "metadata": {
    "collapsed": false
   },
   "outputs": [],
   "source": [
    "model.fit(data)"
   ]
  },
  {
   "cell_type": "code",
   "execution_count": null,
   "metadata": {
    "collapsed": false
   },
   "outputs": [],
   "source": [
    "model.plot()"
   ]
  },
  {
   "cell_type": "markdown",
   "metadata": {},
   "source": [
    "## Multiple Linear Regression w/ Interaction (Poly & C)\n",
    "$$\\widehat{Sal77}(Exper, Educ) = \\beta_0 + \\beta_1 \\tt{Exper} + \\beta_2 \\tt{Exper}^2 + \\beta_3 \\tt{Exper}^3 + \\beta_4 \\tt{Educ} + \\gamma_{14} \\tt{Exper*Educ} + \\gamma_{24} \\tt{Exper^2*Educ} + \\gamma_{34} \\tt{Exper^3*Educ}$$"
   ]
  },
  {
   "cell_type": "code",
   "execution_count": null,
   "metadata": {
    "collapsed": true
   },
   "outputs": [],
   "source": [
    "explanatory = Q(\"Exper\") + Q(\"Exper\") ** 2 + Q(\"Exper\") ** 3 + C(\"Educ\") + Q(\"Exper\") * C(\"Educ\") + Q(\"Exper\") ** 2 * C(\"Educ\") + Q(\"Exper\") ** 3 * C(\"Educ\") # Explanatory Expression\n",
    "# --or-- #\n",
    "explanatory = Poly(\"Exper\", 3) + C(\"Educ\") + Poly(\"Exper\", 3) * C(\"Educ\")\n",
    "response = Q(\"Sal77\") # Response Expression\n",
    "model = LinearModel(explanatory, response)"
   ]
  },
  {
   "cell_type": "code",
   "execution_count": null,
   "metadata": {
    "collapsed": false
   },
   "outputs": [],
   "source": [
    "model.fit(data)"
   ]
  },
  {
   "cell_type": "code",
   "execution_count": null,
   "metadata": {
    "collapsed": false
   },
   "outputs": [],
   "source": [
    "model.plot()"
   ]
  },
  {
   "cell_type": "markdown",
   "metadata": {},
   "source": [
    "# Other Features\n",
    "\n",
    "For the following features, we will be using the $\\widehat{Sal77}(Bsal, Sex) = \\beta_0 + \\beta_1 \\tt{Bsal} + \\beta_2 \\tt{Sex} + \\gamma_{12} \\tt{Bsal*Sex}$ model as an example."
   ]
  },
  {
   "cell_type": "code",
   "execution_count": null,
   "metadata": {
    "collapsed": false
   },
   "outputs": [],
   "source": [
    "explanatory = Q(\"Bsal\") + C(\"Sex\") + Q(\"Bsal\") * C(\"Sex\") # Explanatory Expression\n",
    "response = Q(\"Sal77\") # Response Expression\n",
    "model = LinearModel(explanatory, response)\n",
    "model.fit(data)"
   ]
  },
  {
   "cell_type": "markdown",
   "metadata": {},
   "source": [
    "## Predicting"
   ]
  },
  {
   "cell_type": "code",
   "execution_count": null,
   "metadata": {
    "collapsed": false
   },
   "outputs": [],
   "source": [
    "yhat = model.predict(data)\n",
    "yhat.head(5)"
   ]
  },
  {
   "cell_type": "markdown",
   "metadata": {},
   "source": [
    "## Residual Plots"
   ]
  },
  {
   "cell_type": "code",
   "execution_count": null,
   "metadata": {
    "collapsed": false,
    "scrolled": true
   },
   "outputs": [],
   "source": [
    "model.residual_plots()"
   ]
  },
  {
   "cell_type": "markdown",
   "metadata": {},
   "source": [
    "## Leverage Plots"
   ]
  },
  {
   "cell_type": "code",
   "execution_count": null,
   "metadata": {
    "collapsed": false,
    "scrolled": true
   },
   "outputs": [],
   "source": [
    "model.partial_plots()"
   ]
  },
  {
   "cell_type": "markdown",
   "metadata": {},
   "source": [
    "# Expression Details\n",
    "\n",
    "A model is defined by a quatitative or categorical variables existing either stand alone, within interactions, within linear combinations, or a mix of the latter two.\n",
    "\n",
    "### Variable Types\n",
    "\n",
    "A variable in this package represts the variables you would commonly see in a definition of a regression model like so:\n",
    "$$f(\\tt{Var}) = \\beta_0 + \\beta_1 \\tt{Var_1} + \\beta_2 \\tt{Var_2} + \\beta_3 \\tt{Var_2}^2 + \\gamma_{12} \\tt{Var_1}*{Var_2} + \\gamma_{13} \\tt{Var_1} * {Var_2}^2$$\n",
    "where $\\tt{Var_i}$ represents either a quantitative or categorical variable. \n",
    "\n",
    "Salmon represents these symbolically. When defining the variables, there are three options to pick from:"
   ]
  },
  {
   "cell_type": "code",
   "execution_count": null,
   "metadata": {
    "collapsed": true
   },
   "outputs": [],
   "source": [
    "# Variables known to be quantitative.\n",
    "quant_var = Q(\"Bsal\")\n",
    "# Variables known to be categorical.\n",
    "cat_var = C(\"Sex\")\n",
    "# Variables of unknown type. These will be interpreted when fitting as either categorical or quantitative.\n",
    "interp_var = Var(\"Educ\")"
   ]
  },
  {
   "cell_type": "markdown",
   "metadata": {},
   "source": [
    "The string passed into the variables are the column names to extract from a pandas `DataFrame` when fitting on a set of data. So for instance, if we defined a model with `Q(\"Bsal\")` then the model would extract the `Bsal` column to work with from the data passed in.\n",
    "\n",
    "#### Quantitative Variables\n",
    "Common transformations of quantitative variables are also supported. For example:"
   ]
  },
  {
   "cell_type": "code",
   "execution_count": null,
   "metadata": {
    "collapsed": true
   },
   "outputs": [],
   "source": [
    "bsal_squared = Q(\"Bsal\") ** 2\n",
    "bsal_shifted = Q(\"Bsal\") + 150\n",
    "bsal_logged = Log(Q(\"Bsal\"))"
   ]
  },
  {
   "cell_type": "markdown",
   "metadata": {},
   "source": [
    "#### Categorical Variables\n",
    "\n",
    "When defining categorical variables it is possible to set ahead of time the possible levels/factors to fit with, as well as the encoding method for use. For instance, if we wanted to treat the `Educ` column in our example dataset as a categorical variable, and we knew the possible levels of education were either 8, 10, 12, 15, or 16, then we could define our variable as follows:"
   ]
  },
  {
   "cell_type": "code",
   "execution_count": null,
   "metadata": {
    "collapsed": true
   },
   "outputs": [],
   "source": [
    "educ_var_v1 = C(\"Educ\", method = 'one-hot', levels = [8, 10, 12, 15, 16])\n",
    "educ_var_v2 = C(\"Educ\", method = 'one-hot', levels = [8, 10, 12])"
   ]
  },
  {
   "cell_type": "markdown",
   "metadata": {},
   "source": [
    "The first variable defined set the order of the levels to interpreted as. This would matter with encoding methods such as ordinal encoding (note: currently not supported, only one-hot encoding is supported at this time). In our case with the one-hot encoding method used, our ordering designated the '8' level to be dropped to avoid multi-colinearity.\n",
    "\n",
    "The second variable defined still designated the '8' level to be dropped; however, it also designates that any levels found in the data that are not either '8', '10', or '12' will be binned into an 'other' category.\n",
    "\n",
    "By default, categorical variables will use a one-hot encoding method and will dynamically extract the possible levels of a variable upon fitting. The levels will be ordered by sorting and the smallest (according to Python's `sorted` function) level will be dropped. \n",
    "\n",
    "## Combinations\n",
    "\n",
    "Many regression applications require multiple variables within the model. This is achieved in salmon by simply adding together several variables. For instance, suppose we wanted to represent:\n",
    "$$\\tt{Sex} + \\tt{Bsal} + \\tt{Bsal}^2$$\n",
    "This would be achieved like so:"
   ]
  },
  {
   "cell_type": "code",
   "execution_count": null,
   "metadata": {
    "collapsed": true
   },
   "outputs": [],
   "source": [
    "combo = C(\"Sex\") + Q(\"Bsal\") + Q(\"Bsal\") ** 2"
   ]
  },
  {
   "cell_type": "markdown",
   "metadata": {},
   "source": [
    "Should you want to define an full polynomial sequence you can use the following command as well:"
   ]
  },
  {
   "cell_type": "code",
   "execution_count": null,
   "metadata": {
    "collapsed": true
   },
   "outputs": [],
   "source": [
    "combo = C(\"Sex\") + Poly(\"Bsal\", 4) # Expands to 'Sex + Bsal + Bsal^2 + Bsal^3 + Bsal^4'"
   ]
  },
  {
   "cell_type": "markdown",
   "metadata": {},
   "source": [
    "## Interactions\n",
    "\n",
    "It is common to want to model interaction effects between variables. Salmon supports this symbolically using the `*` operator. Any combination of variable type is supported.\n",
    "\n",
    "For example, let's model this interaction:\n",
    "$$\\tt{Sex * Bsal}$$"
   ]
  },
  {
   "cell_type": "code",
   "execution_count": null,
   "metadata": {
    "collapsed": true
   },
   "outputs": [],
   "source": [
    "interaction = C(\"Sex\") * Q(\"Bsal\")"
   ]
  },
  {
   "cell_type": "markdown",
   "metadata": {},
   "source": [
    "Here is how we would model a more complicated linear combination of variables and interactions like $$\\tt{Sex} + \\tt{Bsal} + \\tt{Bsal}^2 + \\tt{Sex * Bsal} + \\tt{Sex}*{Bsal}^2$$\n"
   ]
  },
  {
   "cell_type": "code",
   "execution_count": null,
   "metadata": {
    "collapsed": true
   },
   "outputs": [],
   "source": [
    "complicated_combo = C(\"Sex\") + Q(\"Bsal\") + Q(\"Bsal\")**2 + C(\"Sex\")*Q(\"Bsal\") + C(\"Sex\")*Q(\"Bsal\")**2"
   ]
  },
  {
   "cell_type": "markdown",
   "metadata": {},
   "source": [
    "Salmon also supports distribution of singular terms into combinations. The above expression could be represented more succinctly as such:"
   ]
  },
  {
   "cell_type": "code",
   "execution_count": null,
   "metadata": {
    "collapsed": true
   },
   "outputs": [],
   "source": [
    "# Equivalent to C(\"Sex\") + Q(\"Bsal\") + Q(\"Bsal\")**2 + (Q(\"Bsal\") + Q(\"Bsal\")**2) * C(\"Sex\") \n",
    "complicated_combo = C(\"Sex\") + Poly(\"Bsal\", 2) + Poly(\"Bsal\", 2) * C(\"Sex\")"
   ]
  },
  {
   "cell_type": "markdown",
   "metadata": {},
   "source": [
    "## Representing the Model\n",
    "\n",
    "Now that we understand how to form expressions of variables, we can now represent our models. `LinearModels` are always defined of the form:\n",
    "\n",
    "`model = LinearModel(explanatory_expression, response_expression)`\n",
    "\n",
    "The `explanatory_expression` is allowed to be a single term, an interaction, or a combination of the other two. The `response_expression` is allowed to be either a single term or an interaction. Categorical variables are allowed within the `response_expression` so long after encoding the resultant expansion is represented by only one column."
   ]
  },
  {
   "cell_type": "code",
   "execution_count": null,
   "metadata": {
    "collapsed": true
   },
   "outputs": [],
   "source": []
  }
 ],
 "metadata": {
  "anaconda-cloud": {},
  "kernelspec": {
   "display_name": "Python [Root]",
   "language": "python",
   "name": "Python [Root]"
  },
  "language_info": {
   "codemirror_mode": {
    "name": "ipython",
    "version": 3
   },
   "file_extension": ".py",
   "mimetype": "text/x-python",
   "name": "python",
   "nbconvert_exporter": "python",
   "pygments_lexer": "ipython3",
   "version": "3.5.2"
  }
 },
 "nbformat": 4,
 "nbformat_minor": 1
}
